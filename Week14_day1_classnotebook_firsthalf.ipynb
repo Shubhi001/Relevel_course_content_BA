{
 "cells": [
  {
   "cell_type": "markdown",
   "id": "5fad192a",
   "metadata": {},
   "source": [
    "## Train-Test Split "
   ]
  },
  {
   "cell_type": "markdown",
   "id": "bb84db0c",
   "metadata": {},
   "source": [
    "Importing Seaborn Library for loading inbuilt datasets"
   ]
  },
  {
   "cell_type": "code",
   "execution_count": 161,
   "id": "1ec46e02",
   "metadata": {},
   "outputs": [],
   "source": [
    "import seaborn as sns"
   ]
  },
  {
   "cell_type": "markdown",
   "id": "fdd87516",
   "metadata": {},
   "source": [
    "Loading planets dataset from Seaborn "
   ]
  },
  {
   "cell_type": "code",
   "execution_count": 162,
   "id": "aeafca99",
   "metadata": {},
   "outputs": [],
   "source": [
    "planets = sns.load_dataset('planets')"
   ]
  },
  {
   "cell_type": "markdown",
   "id": "e8b6866e",
   "metadata": {},
   "source": [
    "Checking dataset using head() function"
   ]
  },
  {
   "cell_type": "code",
   "execution_count": 163,
   "id": "fd72d50c",
   "metadata": {},
   "outputs": [
    {
     "data": {
      "text/html": [
       "<div>\n",
       "<style scoped>\n",
       "    .dataframe tbody tr th:only-of-type {\n",
       "        vertical-align: middle;\n",
       "    }\n",
       "\n",
       "    .dataframe tbody tr th {\n",
       "        vertical-align: top;\n",
       "    }\n",
       "\n",
       "    .dataframe thead th {\n",
       "        text-align: right;\n",
       "    }\n",
       "</style>\n",
       "<table border=\"1\" class=\"dataframe\">\n",
       "  <thead>\n",
       "    <tr style=\"text-align: right;\">\n",
       "      <th></th>\n",
       "      <th>method</th>\n",
       "      <th>number</th>\n",
       "      <th>orbital_period</th>\n",
       "      <th>mass</th>\n",
       "      <th>distance</th>\n",
       "      <th>year</th>\n",
       "    </tr>\n",
       "  </thead>\n",
       "  <tbody>\n",
       "    <tr>\n",
       "      <th>0</th>\n",
       "      <td>Radial Velocity</td>\n",
       "      <td>1</td>\n",
       "      <td>269.300</td>\n",
       "      <td>7.10</td>\n",
       "      <td>77.40</td>\n",
       "      <td>2006</td>\n",
       "    </tr>\n",
       "    <tr>\n",
       "      <th>1</th>\n",
       "      <td>Radial Velocity</td>\n",
       "      <td>1</td>\n",
       "      <td>874.774</td>\n",
       "      <td>2.21</td>\n",
       "      <td>56.95</td>\n",
       "      <td>2008</td>\n",
       "    </tr>\n",
       "    <tr>\n",
       "      <th>2</th>\n",
       "      <td>Radial Velocity</td>\n",
       "      <td>1</td>\n",
       "      <td>763.000</td>\n",
       "      <td>2.60</td>\n",
       "      <td>19.84</td>\n",
       "      <td>2011</td>\n",
       "    </tr>\n",
       "    <tr>\n",
       "      <th>3</th>\n",
       "      <td>Radial Velocity</td>\n",
       "      <td>1</td>\n",
       "      <td>326.030</td>\n",
       "      <td>19.40</td>\n",
       "      <td>110.62</td>\n",
       "      <td>2007</td>\n",
       "    </tr>\n",
       "    <tr>\n",
       "      <th>4</th>\n",
       "      <td>Radial Velocity</td>\n",
       "      <td>1</td>\n",
       "      <td>516.220</td>\n",
       "      <td>10.50</td>\n",
       "      <td>119.47</td>\n",
       "      <td>2009</td>\n",
       "    </tr>\n",
       "  </tbody>\n",
       "</table>\n",
       "</div>"
      ],
      "text/plain": [
       "            method  number  orbital_period   mass  distance  year\n",
       "0  Radial Velocity       1         269.300   7.10     77.40  2006\n",
       "1  Radial Velocity       1         874.774   2.21     56.95  2008\n",
       "2  Radial Velocity       1         763.000   2.60     19.84  2011\n",
       "3  Radial Velocity       1         326.030  19.40    110.62  2007\n",
       "4  Radial Velocity       1         516.220  10.50    119.47  2009"
      ]
     },
     "execution_count": 163,
     "metadata": {},
     "output_type": "execute_result"
    }
   ],
   "source": [
    "planets.head()"
   ]
  },
  {
   "cell_type": "code",
   "execution_count": 164,
   "id": "50ef06b7",
   "metadata": {},
   "outputs": [
    {
     "data": {
      "text/plain": [
       "array([1, 2, 3, 5, 4, 6, 7], dtype=int64)"
      ]
     },
     "execution_count": 164,
     "metadata": {},
     "output_type": "execute_result"
    }
   ],
   "source": [
    "planets.number.unique()"
   ]
  },
  {
   "cell_type": "markdown",
   "id": "c05c58de",
   "metadata": {},
   "source": [
    "We can see that it consists of data regarding planets and their attributes. The planet is represented by \"number\" column"
   ]
  },
  {
   "cell_type": "markdown",
   "id": "0d5031c3",
   "metadata": {},
   "source": [
    "Let's assume that we had to build a planet prediction model which would predict 1 of the 7 planet numbers upon providing other data as input\n",
    "\n",
    "In that scenario. \"number will become Target or Dependent variable and all other fields will be independent features.\n",
    "\n",
    "Usually, Target field is denoted by y and Independent features data is represented by X as shown below - "
   ]
  },
  {
   "cell_type": "code",
   "execution_count": 165,
   "id": "8a7eff7b",
   "metadata": {},
   "outputs": [],
   "source": [
    "X = planets.drop('number',axis=1) # Dropping target so that X only contains Independent features\n",
    "y = planets.iloc[:,[1]]           # Extracting Target column out of data into y\n",
    "  "
   ]
  },
  {
   "cell_type": "code",
   "execution_count": 166,
   "id": "66305648",
   "metadata": {},
   "outputs": [
    {
     "data": {
      "text/html": [
       "<div>\n",
       "<style scoped>\n",
       "    .dataframe tbody tr th:only-of-type {\n",
       "        vertical-align: middle;\n",
       "    }\n",
       "\n",
       "    .dataframe tbody tr th {\n",
       "        vertical-align: top;\n",
       "    }\n",
       "\n",
       "    .dataframe thead th {\n",
       "        text-align: right;\n",
       "    }\n",
       "</style>\n",
       "<table border=\"1\" class=\"dataframe\">\n",
       "  <thead>\n",
       "    <tr style=\"text-align: right;\">\n",
       "      <th></th>\n",
       "      <th>method</th>\n",
       "      <th>orbital_period</th>\n",
       "      <th>mass</th>\n",
       "      <th>distance</th>\n",
       "      <th>year</th>\n",
       "    </tr>\n",
       "  </thead>\n",
       "  <tbody>\n",
       "    <tr>\n",
       "      <th>0</th>\n",
       "      <td>Radial Velocity</td>\n",
       "      <td>269.300</td>\n",
       "      <td>7.10</td>\n",
       "      <td>77.40</td>\n",
       "      <td>2006</td>\n",
       "    </tr>\n",
       "    <tr>\n",
       "      <th>1</th>\n",
       "      <td>Radial Velocity</td>\n",
       "      <td>874.774</td>\n",
       "      <td>2.21</td>\n",
       "      <td>56.95</td>\n",
       "      <td>2008</td>\n",
       "    </tr>\n",
       "    <tr>\n",
       "      <th>2</th>\n",
       "      <td>Radial Velocity</td>\n",
       "      <td>763.000</td>\n",
       "      <td>2.60</td>\n",
       "      <td>19.84</td>\n",
       "      <td>2011</td>\n",
       "    </tr>\n",
       "    <tr>\n",
       "      <th>3</th>\n",
       "      <td>Radial Velocity</td>\n",
       "      <td>326.030</td>\n",
       "      <td>19.40</td>\n",
       "      <td>110.62</td>\n",
       "      <td>2007</td>\n",
       "    </tr>\n",
       "    <tr>\n",
       "      <th>4</th>\n",
       "      <td>Radial Velocity</td>\n",
       "      <td>516.220</td>\n",
       "      <td>10.50</td>\n",
       "      <td>119.47</td>\n",
       "      <td>2009</td>\n",
       "    </tr>\n",
       "  </tbody>\n",
       "</table>\n",
       "</div>"
      ],
      "text/plain": [
       "            method  orbital_period   mass  distance  year\n",
       "0  Radial Velocity         269.300   7.10     77.40  2006\n",
       "1  Radial Velocity         874.774   2.21     56.95  2008\n",
       "2  Radial Velocity         763.000   2.60     19.84  2011\n",
       "3  Radial Velocity         326.030  19.40    110.62  2007\n",
       "4  Radial Velocity         516.220  10.50    119.47  2009"
      ]
     },
     "execution_count": 166,
     "metadata": {},
     "output_type": "execute_result"
    }
   ],
   "source": [
    "# Checking the Independent feature dataset\n",
    "X.head()"
   ]
  },
  {
   "cell_type": "code",
   "execution_count": 167,
   "id": "c008c24d",
   "metadata": {},
   "outputs": [
    {
     "data": {
      "text/html": [
       "<div>\n",
       "<style scoped>\n",
       "    .dataframe tbody tr th:only-of-type {\n",
       "        vertical-align: middle;\n",
       "    }\n",
       "\n",
       "    .dataframe tbody tr th {\n",
       "        vertical-align: top;\n",
       "    }\n",
       "\n",
       "    .dataframe thead th {\n",
       "        text-align: right;\n",
       "    }\n",
       "</style>\n",
       "<table border=\"1\" class=\"dataframe\">\n",
       "  <thead>\n",
       "    <tr style=\"text-align: right;\">\n",
       "      <th></th>\n",
       "      <th>number</th>\n",
       "    </tr>\n",
       "  </thead>\n",
       "  <tbody>\n",
       "    <tr>\n",
       "      <th>0</th>\n",
       "      <td>1</td>\n",
       "    </tr>\n",
       "    <tr>\n",
       "      <th>1</th>\n",
       "      <td>1</td>\n",
       "    </tr>\n",
       "    <tr>\n",
       "      <th>2</th>\n",
       "      <td>1</td>\n",
       "    </tr>\n",
       "    <tr>\n",
       "      <th>3</th>\n",
       "      <td>1</td>\n",
       "    </tr>\n",
       "    <tr>\n",
       "      <th>4</th>\n",
       "      <td>1</td>\n",
       "    </tr>\n",
       "  </tbody>\n",
       "</table>\n",
       "</div>"
      ],
      "text/plain": [
       "   number\n",
       "0       1\n",
       "1       1\n",
       "2       1\n",
       "3       1\n",
       "4       1"
      ]
     },
     "execution_count": 167,
     "metadata": {},
     "output_type": "execute_result"
    }
   ],
   "source": [
    "# Checking Target dataset\n",
    "y.head()"
   ]
  },
  {
   "cell_type": "markdown",
   "id": "92f8ad88",
   "metadata": {},
   "source": [
    "Train/Test split is done by train_test_split function of sklearn.model_selection  module\n",
    "\n",
    "Following is a description of variables/parameters used - \n",
    "\n",
    "X = Independent features data\n",
    "\n",
    "y = Target data\n",
    "\n",
    "test_size = Split ratio. ).30 in below case means a 70/30 split for Train/Test respectively\n",
    "\n",
    "random_state = fixes the random allocation so that every time this cell is run, random allocation is done in similar way for comparsion/performance measurement purpose. It can take any value\n",
    "\n",
    "X_train = Independent features for train data will be put in this variable. The name can be anything, but this is standard notation. \n",
    "\n",
    "y_train = Target for train data will be put in this variable. The name can be anything, but this is standard notation. \n",
    "\n",
    "X_test = Independent features for test data will be put in this variable. The name can be anything, but this is standard notation. \n",
    "\n",
    "y_test = Target features for test data will be put in this variable.  The name can be anything, but this is standard notation. \n",
    "\n"
   ]
  },
  {
   "cell_type": "code",
   "execution_count": 168,
   "id": "526924c1",
   "metadata": {},
   "outputs": [],
   "source": [
    "from sklearn.model_selection import train_test_split\n",
    "X_train, X_test, y_train, y_test = train_test_split(X, y, test_size=0.30, random_state=100)"
   ]
  },
  {
   "cell_type": "code",
   "execution_count": 169,
   "id": "960541a9",
   "metadata": {},
   "outputs": [
    {
     "data": {
      "text/html": [
       "<div>\n",
       "<style scoped>\n",
       "    .dataframe tbody tr th:only-of-type {\n",
       "        vertical-align: middle;\n",
       "    }\n",
       "\n",
       "    .dataframe tbody tr th {\n",
       "        vertical-align: top;\n",
       "    }\n",
       "\n",
       "    .dataframe thead th {\n",
       "        text-align: right;\n",
       "    }\n",
       "</style>\n",
       "<table border=\"1\" class=\"dataframe\">\n",
       "  <thead>\n",
       "    <tr style=\"text-align: right;\">\n",
       "      <th></th>\n",
       "      <th>method</th>\n",
       "      <th>orbital_period</th>\n",
       "      <th>mass</th>\n",
       "      <th>distance</th>\n",
       "      <th>year</th>\n",
       "    </tr>\n",
       "  </thead>\n",
       "  <tbody>\n",
       "    <tr>\n",
       "      <th>526</th>\n",
       "      <td>Radial Velocity</td>\n",
       "      <td>58.11289</td>\n",
       "      <td>8.0200</td>\n",
       "      <td>37.88</td>\n",
       "      <td>1998</td>\n",
       "    </tr>\n",
       "    <tr>\n",
       "      <th>707</th>\n",
       "      <td>Transit</td>\n",
       "      <td>42.63180</td>\n",
       "      <td>NaN</td>\n",
       "      <td>2100.00</td>\n",
       "      <td>2011</td>\n",
       "    </tr>\n",
       "    <tr>\n",
       "      <th>12</th>\n",
       "      <td>Radial Velocity</td>\n",
       "      <td>479.10000</td>\n",
       "      <td>3.8800</td>\n",
       "      <td>97.28</td>\n",
       "      <td>2008</td>\n",
       "    </tr>\n",
       "    <tr>\n",
       "      <th>287</th>\n",
       "      <td>Radial Velocity</td>\n",
       "      <td>16.54600</td>\n",
       "      <td>0.0363</td>\n",
       "      <td>38.01</td>\n",
       "      <td>2011</td>\n",
       "    </tr>\n",
       "    <tr>\n",
       "      <th>932</th>\n",
       "      <td>Transit</td>\n",
       "      <td>4.01610</td>\n",
       "      <td>NaN</td>\n",
       "      <td>NaN</td>\n",
       "      <td>2004</td>\n",
       "    </tr>\n",
       "  </tbody>\n",
       "</table>\n",
       "</div>"
      ],
      "text/plain": [
       "              method  orbital_period    mass  distance  year\n",
       "526  Radial Velocity        58.11289  8.0200     37.88  1998\n",
       "707          Transit        42.63180     NaN   2100.00  2011\n",
       "12   Radial Velocity       479.10000  3.8800     97.28  2008\n",
       "287  Radial Velocity        16.54600  0.0363     38.01  2011\n",
       "932          Transit         4.01610     NaN       NaN  2004"
      ]
     },
     "execution_count": 169,
     "metadata": {},
     "output_type": "execute_result"
    }
   ],
   "source": [
    "# Exploring X_train. It should contain independent features for train data. \n",
    "X_train.head()"
   ]
  },
  {
   "cell_type": "code",
   "execution_count": 170,
   "id": "7d9de4dd",
   "metadata": {},
   "outputs": [
    {
     "data": {
      "text/html": [
       "<div>\n",
       "<style scoped>\n",
       "    .dataframe tbody tr th:only-of-type {\n",
       "        vertical-align: middle;\n",
       "    }\n",
       "\n",
       "    .dataframe tbody tr th {\n",
       "        vertical-align: top;\n",
       "    }\n",
       "\n",
       "    .dataframe thead th {\n",
       "        text-align: right;\n",
       "    }\n",
       "</style>\n",
       "<table border=\"1\" class=\"dataframe\">\n",
       "  <thead>\n",
       "    <tr style=\"text-align: right;\">\n",
       "      <th></th>\n",
       "      <th>number</th>\n",
       "    </tr>\n",
       "  </thead>\n",
       "  <tbody>\n",
       "    <tr>\n",
       "      <th>526</th>\n",
       "      <td>2</td>\n",
       "    </tr>\n",
       "    <tr>\n",
       "      <th>707</th>\n",
       "      <td>2</td>\n",
       "    </tr>\n",
       "    <tr>\n",
       "      <th>12</th>\n",
       "      <td>1</td>\n",
       "    </tr>\n",
       "    <tr>\n",
       "      <th>287</th>\n",
       "      <td>3</td>\n",
       "    </tr>\n",
       "    <tr>\n",
       "      <th>932</th>\n",
       "      <td>1</td>\n",
       "    </tr>\n",
       "  </tbody>\n",
       "</table>\n",
       "</div>"
      ],
      "text/plain": [
       "     number\n",
       "526       2\n",
       "707       2\n",
       "12        1\n",
       "287       3\n",
       "932       1"
      ]
     },
     "execution_count": 170,
     "metadata": {},
     "output_type": "execute_result"
    }
   ],
   "source": [
    "# Exploring y_train. It should contain target feature for train data. \n",
    "y_train.head()"
   ]
  },
  {
   "cell_type": "code",
   "execution_count": 171,
   "id": "85f2ed11",
   "metadata": {},
   "outputs": [
    {
     "data": {
      "text/html": [
       "<div>\n",
       "<style scoped>\n",
       "    .dataframe tbody tr th:only-of-type {\n",
       "        vertical-align: middle;\n",
       "    }\n",
       "\n",
       "    .dataframe tbody tr th {\n",
       "        vertical-align: top;\n",
       "    }\n",
       "\n",
       "    .dataframe thead th {\n",
       "        text-align: right;\n",
       "    }\n",
       "</style>\n",
       "<table border=\"1\" class=\"dataframe\">\n",
       "  <thead>\n",
       "    <tr style=\"text-align: right;\">\n",
       "      <th></th>\n",
       "      <th>method</th>\n",
       "      <th>orbital_period</th>\n",
       "      <th>mass</th>\n",
       "      <th>distance</th>\n",
       "      <th>year</th>\n",
       "    </tr>\n",
       "  </thead>\n",
       "  <tbody>\n",
       "    <tr>\n",
       "      <th>826</th>\n",
       "      <td>Transit</td>\n",
       "      <td>13.749000</td>\n",
       "      <td>NaN</td>\n",
       "      <td>NaN</td>\n",
       "      <td>2013</td>\n",
       "    </tr>\n",
       "    <tr>\n",
       "      <th>917</th>\n",
       "      <td>Microlensing</td>\n",
       "      <td>NaN</td>\n",
       "      <td>NaN</td>\n",
       "      <td>NaN</td>\n",
       "      <td>2004</td>\n",
       "    </tr>\n",
       "    <tr>\n",
       "      <th>213</th>\n",
       "      <td>Radial Velocity</td>\n",
       "      <td>360.200000</td>\n",
       "      <td>2.37000</td>\n",
       "      <td>56.50</td>\n",
       "      <td>2012</td>\n",
       "    </tr>\n",
       "    <tr>\n",
       "      <th>270</th>\n",
       "      <td>Radial Velocity</td>\n",
       "      <td>53.881000</td>\n",
       "      <td>0.06472</td>\n",
       "      <td>32.31</td>\n",
       "      <td>2011</td>\n",
       "    </tr>\n",
       "    <tr>\n",
       "      <th>1022</th>\n",
       "      <td>Transit</td>\n",
       "      <td>1.360031</td>\n",
       "      <td>NaN</td>\n",
       "      <td>93.00</td>\n",
       "      <td>2012</td>\n",
       "    </tr>\n",
       "  </tbody>\n",
       "</table>\n",
       "</div>"
      ],
      "text/plain": [
       "               method  orbital_period     mass  distance  year\n",
       "826           Transit       13.749000      NaN       NaN  2013\n",
       "917      Microlensing             NaN      NaN       NaN  2004\n",
       "213   Radial Velocity      360.200000  2.37000     56.50  2012\n",
       "270   Radial Velocity       53.881000  0.06472     32.31  2011\n",
       "1022          Transit        1.360031      NaN     93.00  2012"
      ]
     },
     "execution_count": 171,
     "metadata": {},
     "output_type": "execute_result"
    }
   ],
   "source": [
    "# Exploring X_test. It should contain independent features for test data. \n",
    "X_test.head()"
   ]
  },
  {
   "cell_type": "code",
   "execution_count": 172,
   "id": "8a3573b7",
   "metadata": {
    "scrolled": true
   },
   "outputs": [
    {
     "data": {
      "text/html": [
       "<div>\n",
       "<style scoped>\n",
       "    .dataframe tbody tr th:only-of-type {\n",
       "        vertical-align: middle;\n",
       "    }\n",
       "\n",
       "    .dataframe tbody tr th {\n",
       "        vertical-align: top;\n",
       "    }\n",
       "\n",
       "    .dataframe thead th {\n",
       "        text-align: right;\n",
       "    }\n",
       "</style>\n",
       "<table border=\"1\" class=\"dataframe\">\n",
       "  <thead>\n",
       "    <tr style=\"text-align: right;\">\n",
       "      <th></th>\n",
       "      <th>number</th>\n",
       "    </tr>\n",
       "  </thead>\n",
       "  <tbody>\n",
       "    <tr>\n",
       "      <th>826</th>\n",
       "      <td>2</td>\n",
       "    </tr>\n",
       "    <tr>\n",
       "      <th>917</th>\n",
       "      <td>1</td>\n",
       "    </tr>\n",
       "    <tr>\n",
       "      <th>213</th>\n",
       "      <td>2</td>\n",
       "    </tr>\n",
       "    <tr>\n",
       "      <th>270</th>\n",
       "      <td>2</td>\n",
       "    </tr>\n",
       "    <tr>\n",
       "      <th>1022</th>\n",
       "      <td>1</td>\n",
       "    </tr>\n",
       "  </tbody>\n",
       "</table>\n",
       "</div>"
      ],
      "text/plain": [
       "      number\n",
       "826        2\n",
       "917        1\n",
       "213        2\n",
       "270        2\n",
       "1022       1"
      ]
     },
     "execution_count": 172,
     "metadata": {},
     "output_type": "execute_result"
    }
   ],
   "source": [
    "# Exploring y_test. It should contain target feature for test data. \n",
    "y_test.head()"
   ]
  },
  {
   "cell_type": "markdown",
   "id": "96349130",
   "metadata": {},
   "source": [
    "## Confusion Matrix , Accuracy , Type I & Type II Error"
   ]
  },
  {
   "cell_type": "markdown",
   "id": "75b273b6",
   "metadata": {},
   "source": [
    "sklearn  methods can be used for these perfromance indicators as below "
   ]
  },
  {
   "cell_type": "code",
   "execution_count": 173,
   "id": "dba6e56f",
   "metadata": {},
   "outputs": [],
   "source": [
    "# Importing Confusion matrix from sklearn\n",
    "from sklearn.metrics import confusion_matrix"
   ]
  },
  {
   "cell_type": "markdown",
   "id": "6acd204d",
   "metadata": {},
   "source": [
    "Let's randomly assume some Actual and Predicted values for now to understand these concepts. \n",
    "\n",
    "Assume that 25 Actual values from a test dataset are stored in  actual_val and corresponding predicted ones in predicted_val"
   ]
  },
  {
   "cell_type": "code",
   "execution_count": 174,
   "id": "45100868",
   "metadata": {},
   "outputs": [],
   "source": [
    "# Actual values\n",
    "actual_val = [1,1,0,1,0,0,0,1,0,1,1,1,0,0,1,0,1,0,1,0,0,0,0,1,1]\n",
    "\n",
    "# predicted values\n",
    "predicted_val = [1,1,1,1,1,0,0,0,0,0,1,1,1,1,1,1,1,0,0,0,1,0,1,1,1]"
   ]
  },
  {
   "cell_type": "markdown",
   "id": "dfdaa185",
   "metadata": {},
   "source": [
    "### Confusion Matrix"
   ]
  },
  {
   "cell_type": "markdown",
   "id": "f6c959eb",
   "metadata": {},
   "source": [
    "confusion_matrix function can be used to get the confusion matrix as below. \n",
    "\n",
    "It takes actual values dataset as first parameter and predicted values as the second parameter. labels can be explicitly passed to specif the order in matrix. \n",
    "\n",
    "Note: Students can always explore functions by Shift+tab for additional parameters and examples\n"
   ]
  },
  {
   "cell_type": "code",
   "execution_count": 175,
   "id": "f0b2d067",
   "metadata": {},
   "outputs": [
    {
     "data": {
      "text/plain": [
       "array([[9, 3],\n",
       "       [7, 6]], dtype=int64)"
      ]
     },
     "execution_count": 175,
     "metadata": {},
     "output_type": "execute_result"
    }
   ],
   "source": [
    "matrix = confusion_matrix(actual_val,predicted_val, labels=[1,0] )\n",
    "matrix"
   ]
  },
  {
   "cell_type": "markdown",
   "id": "d020543b",
   "metadata": {},
   "source": [
    "As expected, the sum of all the values in above matrix is 35 because a total of 25 predictions were made. "
   ]
  },
  {
   "cell_type": "markdown",
   "id": "48c87917",
   "metadata": {},
   "source": [
    "Although Type 1 and Type 2 errors can be directly inferred from the matrix, but these can also be obtained by accessing the confusion matrix as below - "
   ]
  },
  {
   "cell_type": "markdown",
   "id": "b826ecd2",
   "metadata": {},
   "source": [
    "### Type 1 & Type 2 Errors"
   ]
  },
  {
   "cell_type": "code",
   "execution_count": 176,
   "id": "78c788f4",
   "metadata": {},
   "outputs": [
    {
     "name": "stdout",
     "output_type": "stream",
     "text": [
      "Type 1 error ( False Postive) is : 3\n",
      "Type 2 error ( False Negative) is :  7\n"
     ]
    }
   ],
   "source": [
    "Type_1_False_positive = matrix[0][1]\n",
    "print(\"Type 1 error ( False Postive) is : \" + str(Type_1_False_positive))\n",
    "\n",
    "Type_2_False_negative = matrix[1][0]\n",
    "print(\"Type 2 error ( False Negative) is :  \" + str(Type_2_False_negative))"
   ]
  },
  {
   "cell_type": "markdown",
   "id": "72491b7a",
   "metadata": {},
   "source": [
    "### Accuracy"
   ]
  },
  {
   "cell_type": "markdown",
   "id": "95a4a60f",
   "metadata": {},
   "source": [
    "accuracy_score method of sklearn can be used to find accuracy of a model. \n",
    "\n",
    "From confusion matrix, we can expect accuracy to be 15/25 = 60% (Sum of diagonal elements divided by total sum)"
   ]
  },
  {
   "cell_type": "code",
   "execution_count": 177,
   "id": "4fdb3053",
   "metadata": {},
   "outputs": [
    {
     "data": {
      "text/plain": [
       "0.6"
      ]
     },
     "execution_count": 177,
     "metadata": {},
     "output_type": "execute_result"
    }
   ],
   "source": [
    "from sklearn.metrics import accuracy_score\n",
    "score = accuracy_score(actual_val, predicted_val)\n",
    "score"
   ]
  },
  {
   "cell_type": "markdown",
   "id": "41793c52",
   "metadata": {},
   "source": [
    "The accuracy comes out to be 60% as expected"
   ]
  },
  {
   "cell_type": "markdown",
   "id": "5a7c863f",
   "metadata": {},
   "source": [
    "## Feature Engineering"
   ]
  },
  {
   "cell_type": "markdown",
   "id": "9c10b611",
   "metadata": {},
   "source": [
    "### Data Cleaing"
   ]
  },
  {
   "cell_type": "markdown",
   "id": "0cb04c90",
   "metadata": {},
   "source": [
    "Let's assume we have this data regarding penguins characteristics, and we want to develop a classification model which predicts the the species of the penguin based on all other features."
   ]
  },
  {
   "cell_type": "code",
   "execution_count": 178,
   "id": "ee3924d4",
   "metadata": {},
   "outputs": [],
   "source": [
    "penguins = sns.load_dataset('penguins')"
   ]
  },
  {
   "cell_type": "code",
   "execution_count": 179,
   "id": "c6269f20",
   "metadata": {
    "scrolled": false
   },
   "outputs": [
    {
     "data": {
      "text/html": [
       "<div>\n",
       "<style scoped>\n",
       "    .dataframe tbody tr th:only-of-type {\n",
       "        vertical-align: middle;\n",
       "    }\n",
       "\n",
       "    .dataframe tbody tr th {\n",
       "        vertical-align: top;\n",
       "    }\n",
       "\n",
       "    .dataframe thead th {\n",
       "        text-align: right;\n",
       "    }\n",
       "</style>\n",
       "<table border=\"1\" class=\"dataframe\">\n",
       "  <thead>\n",
       "    <tr style=\"text-align: right;\">\n",
       "      <th></th>\n",
       "      <th>species</th>\n",
       "      <th>island</th>\n",
       "      <th>bill_length_mm</th>\n",
       "      <th>bill_depth_mm</th>\n",
       "      <th>flipper_length_mm</th>\n",
       "      <th>body_mass_g</th>\n",
       "      <th>sex</th>\n",
       "    </tr>\n",
       "  </thead>\n",
       "  <tbody>\n",
       "    <tr>\n",
       "      <th>0</th>\n",
       "      <td>Adelie</td>\n",
       "      <td>Torgersen</td>\n",
       "      <td>39.1</td>\n",
       "      <td>18.7</td>\n",
       "      <td>181.0</td>\n",
       "      <td>3750.0</td>\n",
       "      <td>Male</td>\n",
       "    </tr>\n",
       "    <tr>\n",
       "      <th>1</th>\n",
       "      <td>Adelie</td>\n",
       "      <td>Torgersen</td>\n",
       "      <td>39.5</td>\n",
       "      <td>17.4</td>\n",
       "      <td>186.0</td>\n",
       "      <td>3800.0</td>\n",
       "      <td>Female</td>\n",
       "    </tr>\n",
       "    <tr>\n",
       "      <th>2</th>\n",
       "      <td>Adelie</td>\n",
       "      <td>Torgersen</td>\n",
       "      <td>40.3</td>\n",
       "      <td>18.0</td>\n",
       "      <td>195.0</td>\n",
       "      <td>3250.0</td>\n",
       "      <td>Female</td>\n",
       "    </tr>\n",
       "    <tr>\n",
       "      <th>3</th>\n",
       "      <td>Adelie</td>\n",
       "      <td>Torgersen</td>\n",
       "      <td>NaN</td>\n",
       "      <td>NaN</td>\n",
       "      <td>NaN</td>\n",
       "      <td>NaN</td>\n",
       "      <td>NaN</td>\n",
       "    </tr>\n",
       "    <tr>\n",
       "      <th>4</th>\n",
       "      <td>Adelie</td>\n",
       "      <td>Torgersen</td>\n",
       "      <td>36.7</td>\n",
       "      <td>19.3</td>\n",
       "      <td>193.0</td>\n",
       "      <td>3450.0</td>\n",
       "      <td>Female</td>\n",
       "    </tr>\n",
       "  </tbody>\n",
       "</table>\n",
       "</div>"
      ],
      "text/plain": [
       "  species     island  bill_length_mm  bill_depth_mm  flipper_length_mm  \\\n",
       "0  Adelie  Torgersen            39.1           18.7              181.0   \n",
       "1  Adelie  Torgersen            39.5           17.4              186.0   \n",
       "2  Adelie  Torgersen            40.3           18.0              195.0   \n",
       "3  Adelie  Torgersen             NaN            NaN                NaN   \n",
       "4  Adelie  Torgersen            36.7           19.3              193.0   \n",
       "\n",
       "   body_mass_g     sex  \n",
       "0       3750.0    Male  \n",
       "1       3800.0  Female  \n",
       "2       3250.0  Female  \n",
       "3          NaN     NaN  \n",
       "4       3450.0  Female  "
      ]
     },
     "execution_count": 179,
     "metadata": {},
     "output_type": "execute_result"
    }
   ],
   "source": [
    "penguins.head()"
   ]
  },
  {
   "cell_type": "markdown",
   "id": "aab598ae",
   "metadata": {},
   "source": [
    "Checking the shape of the data. There are 344 rows and 7 columns - "
   ]
  },
  {
   "cell_type": "code",
   "execution_count": 180,
   "id": "46878147",
   "metadata": {},
   "outputs": [
    {
     "data": {
      "text/plain": [
       "(344, 7)"
      ]
     },
     "execution_count": 180,
     "metadata": {},
     "output_type": "execute_result"
    }
   ],
   "source": [
    "penguins.shape"
   ]
  },
  {
   "cell_type": "markdown",
   "id": "fd01877c",
   "metadata": {},
   "source": [
    "Checking nulls. 6 columns have less than 344 non-null rows. Hence we'll need to treat those 6 fields - "
   ]
  },
  {
   "cell_type": "code",
   "execution_count": 181,
   "id": "5db6a743",
   "metadata": {},
   "outputs": [
    {
     "name": "stdout",
     "output_type": "stream",
     "text": [
      "<class 'pandas.core.frame.DataFrame'>\n",
      "RangeIndex: 344 entries, 0 to 343\n",
      "Data columns (total 7 columns):\n",
      " #   Column             Non-Null Count  Dtype  \n",
      "---  ------             --------------  -----  \n",
      " 0   species            344 non-null    object \n",
      " 1   island             344 non-null    object \n",
      " 2   bill_length_mm     342 non-null    float64\n",
      " 3   bill_depth_mm      342 non-null    float64\n",
      " 4   flipper_length_mm  342 non-null    float64\n",
      " 5   body_mass_g        342 non-null    float64\n",
      " 6   sex                333 non-null    object \n",
      "dtypes: float64(4), object(3)\n",
      "memory usage: 18.9+ KB\n"
     ]
    }
   ],
   "source": [
    "penguins.info()"
   ]
  },
  {
   "cell_type": "markdown",
   "id": "954231ef",
   "metadata": {},
   "source": [
    "Treating nulls by Mean/mode imputation accordingly - "
   ]
  },
  {
   "cell_type": "code",
   "execution_count": 182,
   "id": "4e4aaf55",
   "metadata": {},
   "outputs": [],
   "source": [
    "penguins['bill_length_mm']=penguins['bill_length_mm'].fillna(penguins['bill_length_mm'].mean())\n",
    "penguins['bill_length_mm']=penguins['bill_length_mm'].fillna(penguins['bill_length_mm'].mean())\n",
    "penguins['bill_depth_mm']=penguins['bill_depth_mm'].fillna(penguins['bill_depth_mm'].mean())\n",
    "penguins['flipper_length_mm']=penguins['flipper_length_mm'].fillna(penguins['flipper_length_mm'].mean())\n",
    "penguins['body_mass_g']=penguins['body_mass_g'].fillna(penguins['body_mass_g'].mean())\n",
    "penguins['sex']=penguins['sex'].fillna(penguins['sex'].mode()[0])"
   ]
  },
  {
   "cell_type": "markdown",
   "id": "3eded862",
   "metadata": {},
   "source": [
    "Confirming no nulls left in the data - "
   ]
  },
  {
   "cell_type": "code",
   "execution_count": 183,
   "id": "f7d6dc9e",
   "metadata": {},
   "outputs": [
    {
     "name": "stdout",
     "output_type": "stream",
     "text": [
      "<class 'pandas.core.frame.DataFrame'>\n",
      "RangeIndex: 344 entries, 0 to 343\n",
      "Data columns (total 7 columns):\n",
      " #   Column             Non-Null Count  Dtype  \n",
      "---  ------             --------------  -----  \n",
      " 0   species            344 non-null    object \n",
      " 1   island             344 non-null    object \n",
      " 2   bill_length_mm     344 non-null    float64\n",
      " 3   bill_depth_mm      344 non-null    float64\n",
      " 4   flipper_length_mm  344 non-null    float64\n",
      " 5   body_mass_g        344 non-null    float64\n",
      " 6   sex                344 non-null    object \n",
      "dtypes: float64(4), object(3)\n",
      "memory usage: 18.9+ KB\n"
     ]
    }
   ],
   "source": [
    "penguins.info()"
   ]
  },
  {
   "cell_type": "markdown",
   "id": "15b55e00",
   "metadata": {},
   "source": [
    "### One-hot encoding"
   ]
  },
  {
   "cell_type": "markdown",
   "id": "eb4ef061",
   "metadata": {},
   "source": [
    "We see two categorical variables - island and sex. \n",
    "For these to be used by an algorithm, we'll need to convert these into binary features using One-hot encoding\n",
    "\n",
    "One-hot encoding can be done by using Pandas' get_dummies() function.- \n",
    "\n",
    "drop_first parameters means that for N lables, function will create N-1 fields. Thats exactly what we want. "
   ]
  },
  {
   "cell_type": "code",
   "execution_count": 184,
   "id": "40ca4c3e",
   "metadata": {},
   "outputs": [
    {
     "data": {
      "text/html": [
       "<div>\n",
       "<style scoped>\n",
       "    .dataframe tbody tr th:only-of-type {\n",
       "        vertical-align: middle;\n",
       "    }\n",
       "\n",
       "    .dataframe tbody tr th {\n",
       "        vertical-align: top;\n",
       "    }\n",
       "\n",
       "    .dataframe thead th {\n",
       "        text-align: right;\n",
       "    }\n",
       "</style>\n",
       "<table border=\"1\" class=\"dataframe\">\n",
       "  <thead>\n",
       "    <tr style=\"text-align: right;\">\n",
       "      <th></th>\n",
       "      <th>island_Dream</th>\n",
       "      <th>island_Torgersen</th>\n",
       "    </tr>\n",
       "  </thead>\n",
       "  <tbody>\n",
       "    <tr>\n",
       "      <th>0</th>\n",
       "      <td>0</td>\n",
       "      <td>1</td>\n",
       "    </tr>\n",
       "    <tr>\n",
       "      <th>1</th>\n",
       "      <td>0</td>\n",
       "      <td>1</td>\n",
       "    </tr>\n",
       "    <tr>\n",
       "      <th>2</th>\n",
       "      <td>0</td>\n",
       "      <td>1</td>\n",
       "    </tr>\n",
       "    <tr>\n",
       "      <th>3</th>\n",
       "      <td>0</td>\n",
       "      <td>1</td>\n",
       "    </tr>\n",
       "    <tr>\n",
       "      <th>4</th>\n",
       "      <td>0</td>\n",
       "      <td>1</td>\n",
       "    </tr>\n",
       "  </tbody>\n",
       "</table>\n",
       "</div>"
      ],
      "text/plain": [
       "   island_Dream  island_Torgersen\n",
       "0             0                 1\n",
       "1             0                 1\n",
       "2             0                 1\n",
       "3             0                 1\n",
       "4             0                 1"
      ]
     },
     "execution_count": 184,
     "metadata": {},
     "output_type": "execute_result"
    }
   ],
   "source": [
    "import pandas as pd\n",
    "island_dummies=pd.get_dummies(penguins[['island']],drop_first=True)\n",
    "island_dummies.head()\n"
   ]
  },
  {
   "cell_type": "code",
   "execution_count": 185,
   "id": "42a301eb",
   "metadata": {
    "scrolled": true
   },
   "outputs": [
    {
     "data": {
      "text/html": [
       "<div>\n",
       "<style scoped>\n",
       "    .dataframe tbody tr th:only-of-type {\n",
       "        vertical-align: middle;\n",
       "    }\n",
       "\n",
       "    .dataframe tbody tr th {\n",
       "        vertical-align: top;\n",
       "    }\n",
       "\n",
       "    .dataframe thead th {\n",
       "        text-align: right;\n",
       "    }\n",
       "</style>\n",
       "<table border=\"1\" class=\"dataframe\">\n",
       "  <thead>\n",
       "    <tr style=\"text-align: right;\">\n",
       "      <th></th>\n",
       "      <th>sex_Male</th>\n",
       "    </tr>\n",
       "  </thead>\n",
       "  <tbody>\n",
       "    <tr>\n",
       "      <th>0</th>\n",
       "      <td>1</td>\n",
       "    </tr>\n",
       "    <tr>\n",
       "      <th>1</th>\n",
       "      <td>0</td>\n",
       "    </tr>\n",
       "    <tr>\n",
       "      <th>2</th>\n",
       "      <td>0</td>\n",
       "    </tr>\n",
       "    <tr>\n",
       "      <th>3</th>\n",
       "      <td>1</td>\n",
       "    </tr>\n",
       "    <tr>\n",
       "      <th>4</th>\n",
       "      <td>0</td>\n",
       "    </tr>\n",
       "  </tbody>\n",
       "</table>\n",
       "</div>"
      ],
      "text/plain": [
       "   sex_Male\n",
       "0         1\n",
       "1         0\n",
       "2         0\n",
       "3         1\n",
       "4         0"
      ]
     },
     "execution_count": 185,
     "metadata": {},
     "output_type": "execute_result"
    }
   ],
   "source": [
    "sex_dummies = pd.get_dummies(penguins[['sex']],drop_first=True)\n",
    "sex_dummies.head()"
   ]
  },
  {
   "cell_type": "markdown",
   "id": "9a2295c6",
   "metadata": {},
   "source": [
    "Merging new binary fields to the original dataframe - "
   ]
  },
  {
   "cell_type": "code",
   "execution_count": 186,
   "id": "f498087a",
   "metadata": {
    "scrolled": false
   },
   "outputs": [
    {
     "data": {
      "text/html": [
       "<div>\n",
       "<style scoped>\n",
       "    .dataframe tbody tr th:only-of-type {\n",
       "        vertical-align: middle;\n",
       "    }\n",
       "\n",
       "    .dataframe tbody tr th {\n",
       "        vertical-align: top;\n",
       "    }\n",
       "\n",
       "    .dataframe thead th {\n",
       "        text-align: right;\n",
       "    }\n",
       "</style>\n",
       "<table border=\"1\" class=\"dataframe\">\n",
       "  <thead>\n",
       "    <tr style=\"text-align: right;\">\n",
       "      <th></th>\n",
       "      <th>species</th>\n",
       "      <th>island</th>\n",
       "      <th>bill_length_mm</th>\n",
       "      <th>bill_depth_mm</th>\n",
       "      <th>flipper_length_mm</th>\n",
       "      <th>body_mass_g</th>\n",
       "      <th>sex</th>\n",
       "      <th>sex_Male</th>\n",
       "      <th>island_Dream</th>\n",
       "      <th>island_Torgersen</th>\n",
       "    </tr>\n",
       "  </thead>\n",
       "  <tbody>\n",
       "    <tr>\n",
       "      <th>0</th>\n",
       "      <td>Adelie</td>\n",
       "      <td>Torgersen</td>\n",
       "      <td>39.10000</td>\n",
       "      <td>18.70000</td>\n",
       "      <td>181.000000</td>\n",
       "      <td>3750.000000</td>\n",
       "      <td>Male</td>\n",
       "      <td>1</td>\n",
       "      <td>0</td>\n",
       "      <td>1</td>\n",
       "    </tr>\n",
       "    <tr>\n",
       "      <th>1</th>\n",
       "      <td>Adelie</td>\n",
       "      <td>Torgersen</td>\n",
       "      <td>39.50000</td>\n",
       "      <td>17.40000</td>\n",
       "      <td>186.000000</td>\n",
       "      <td>3800.000000</td>\n",
       "      <td>Female</td>\n",
       "      <td>0</td>\n",
       "      <td>0</td>\n",
       "      <td>1</td>\n",
       "    </tr>\n",
       "    <tr>\n",
       "      <th>2</th>\n",
       "      <td>Adelie</td>\n",
       "      <td>Torgersen</td>\n",
       "      <td>40.30000</td>\n",
       "      <td>18.00000</td>\n",
       "      <td>195.000000</td>\n",
       "      <td>3250.000000</td>\n",
       "      <td>Female</td>\n",
       "      <td>0</td>\n",
       "      <td>0</td>\n",
       "      <td>1</td>\n",
       "    </tr>\n",
       "    <tr>\n",
       "      <th>3</th>\n",
       "      <td>Adelie</td>\n",
       "      <td>Torgersen</td>\n",
       "      <td>43.92193</td>\n",
       "      <td>17.15117</td>\n",
       "      <td>200.915205</td>\n",
       "      <td>4201.754386</td>\n",
       "      <td>Male</td>\n",
       "      <td>1</td>\n",
       "      <td>0</td>\n",
       "      <td>1</td>\n",
       "    </tr>\n",
       "    <tr>\n",
       "      <th>4</th>\n",
       "      <td>Adelie</td>\n",
       "      <td>Torgersen</td>\n",
       "      <td>36.70000</td>\n",
       "      <td>19.30000</td>\n",
       "      <td>193.000000</td>\n",
       "      <td>3450.000000</td>\n",
       "      <td>Female</td>\n",
       "      <td>0</td>\n",
       "      <td>0</td>\n",
       "      <td>1</td>\n",
       "    </tr>\n",
       "  </tbody>\n",
       "</table>\n",
       "</div>"
      ],
      "text/plain": [
       "  species     island  bill_length_mm  bill_depth_mm  flipper_length_mm  \\\n",
       "0  Adelie  Torgersen        39.10000       18.70000         181.000000   \n",
       "1  Adelie  Torgersen        39.50000       17.40000         186.000000   \n",
       "2  Adelie  Torgersen        40.30000       18.00000         195.000000   \n",
       "3  Adelie  Torgersen        43.92193       17.15117         200.915205   \n",
       "4  Adelie  Torgersen        36.70000       19.30000         193.000000   \n",
       "\n",
       "   body_mass_g     sex  sex_Male  island_Dream  island_Torgersen  \n",
       "0  3750.000000    Male         1             0                 1  \n",
       "1  3800.000000  Female         0             0                 1  \n",
       "2  3250.000000  Female         0             0                 1  \n",
       "3  4201.754386    Male         1             0                 1  \n",
       "4  3450.000000  Female         0             0                 1  "
      ]
     },
     "execution_count": 186,
     "metadata": {},
     "output_type": "execute_result"
    }
   ],
   "source": [
    "penguins = pd.concat([penguins,sex_dummies,island_dummies],axis=1)\n",
    "penguins.head()"
   ]
  },
  {
   "cell_type": "markdown",
   "id": "437d2539",
   "metadata": {},
   "source": [
    "Dropping the original categorical fields as those are no more required anymore"
   ]
  },
  {
   "cell_type": "code",
   "execution_count": 187,
   "id": "90009600",
   "metadata": {},
   "outputs": [],
   "source": [
    "penguins.drop(['island','sex'],axis=1,inplace=True)"
   ]
  },
  {
   "cell_type": "markdown",
   "id": "207fb21c",
   "metadata": {},
   "source": [
    "NOTE : One hot encoding should be performed before the Test/Train split. Otherise it would have to be performed 4 times for X_train, X_test , y_train and y_test"
   ]
  },
  {
   "cell_type": "markdown",
   "id": "0fc58bda",
   "metadata": {},
   "source": [
    "### Feature Scaling - Standardisation"
   ]
  },
  {
   "cell_type": "markdown",
   "id": "9290fb63",
   "metadata": {},
   "source": [
    "Before applying any scaling on the data, it is advised to do the train test split.\n",
    "Otherwise data leakage will happen between Train and Test splits. \n",
    "\n",
    "Data Leakge - We want our Train and Test data to be completely randomly splitted and fairly independent of each other. But applying scaling before the split would link the 2 splits in a way and thats known as data leakage "
   ]
  },
  {
   "cell_type": "markdown",
   "id": "8b583345",
   "metadata": {},
   "source": [
    "Train/Test Split :"
   ]
  },
  {
   "cell_type": "code",
   "execution_count": 188,
   "id": "0747fc34",
   "metadata": {},
   "outputs": [],
   "source": [
    "X = penguins.drop('species',axis=1) # Dropping target so that X only contains Independent features\n",
    "y = penguins.iloc[:,[0]]           # Extracting Target column out of data into y\n",
    "  "
   ]
  },
  {
   "cell_type": "code",
   "execution_count": 189,
   "id": "91aeff07",
   "metadata": {},
   "outputs": [
    {
     "data": {
      "text/html": [
       "<div>\n",
       "<style scoped>\n",
       "    .dataframe tbody tr th:only-of-type {\n",
       "        vertical-align: middle;\n",
       "    }\n",
       "\n",
       "    .dataframe tbody tr th {\n",
       "        vertical-align: top;\n",
       "    }\n",
       "\n",
       "    .dataframe thead th {\n",
       "        text-align: right;\n",
       "    }\n",
       "</style>\n",
       "<table border=\"1\" class=\"dataframe\">\n",
       "  <thead>\n",
       "    <tr style=\"text-align: right;\">\n",
       "      <th></th>\n",
       "      <th>bill_length_mm</th>\n",
       "      <th>bill_depth_mm</th>\n",
       "      <th>flipper_length_mm</th>\n",
       "      <th>body_mass_g</th>\n",
       "      <th>sex_Male</th>\n",
       "      <th>island_Dream</th>\n",
       "      <th>island_Torgersen</th>\n",
       "    </tr>\n",
       "  </thead>\n",
       "  <tbody>\n",
       "    <tr>\n",
       "      <th>0</th>\n",
       "      <td>39.10000</td>\n",
       "      <td>18.70000</td>\n",
       "      <td>181.000000</td>\n",
       "      <td>3750.000000</td>\n",
       "      <td>1</td>\n",
       "      <td>0</td>\n",
       "      <td>1</td>\n",
       "    </tr>\n",
       "    <tr>\n",
       "      <th>1</th>\n",
       "      <td>39.50000</td>\n",
       "      <td>17.40000</td>\n",
       "      <td>186.000000</td>\n",
       "      <td>3800.000000</td>\n",
       "      <td>0</td>\n",
       "      <td>0</td>\n",
       "      <td>1</td>\n",
       "    </tr>\n",
       "    <tr>\n",
       "      <th>2</th>\n",
       "      <td>40.30000</td>\n",
       "      <td>18.00000</td>\n",
       "      <td>195.000000</td>\n",
       "      <td>3250.000000</td>\n",
       "      <td>0</td>\n",
       "      <td>0</td>\n",
       "      <td>1</td>\n",
       "    </tr>\n",
       "    <tr>\n",
       "      <th>3</th>\n",
       "      <td>43.92193</td>\n",
       "      <td>17.15117</td>\n",
       "      <td>200.915205</td>\n",
       "      <td>4201.754386</td>\n",
       "      <td>1</td>\n",
       "      <td>0</td>\n",
       "      <td>1</td>\n",
       "    </tr>\n",
       "    <tr>\n",
       "      <th>4</th>\n",
       "      <td>36.70000</td>\n",
       "      <td>19.30000</td>\n",
       "      <td>193.000000</td>\n",
       "      <td>3450.000000</td>\n",
       "      <td>0</td>\n",
       "      <td>0</td>\n",
       "      <td>1</td>\n",
       "    </tr>\n",
       "  </tbody>\n",
       "</table>\n",
       "</div>"
      ],
      "text/plain": [
       "   bill_length_mm  bill_depth_mm  flipper_length_mm  body_mass_g  sex_Male  \\\n",
       "0        39.10000       18.70000         181.000000  3750.000000         1   \n",
       "1        39.50000       17.40000         186.000000  3800.000000         0   \n",
       "2        40.30000       18.00000         195.000000  3250.000000         0   \n",
       "3        43.92193       17.15117         200.915205  4201.754386         1   \n",
       "4        36.70000       19.30000         193.000000  3450.000000         0   \n",
       "\n",
       "   island_Dream  island_Torgersen  \n",
       "0             0                 1  \n",
       "1             0                 1  \n",
       "2             0                 1  \n",
       "3             0                 1  \n",
       "4             0                 1  "
      ]
     },
     "execution_count": 189,
     "metadata": {},
     "output_type": "execute_result"
    }
   ],
   "source": [
    "X.head()"
   ]
  },
  {
   "cell_type": "code",
   "execution_count": 190,
   "id": "a26c1f7e",
   "metadata": {
    "scrolled": true
   },
   "outputs": [
    {
     "data": {
      "text/html": [
       "<div>\n",
       "<style scoped>\n",
       "    .dataframe tbody tr th:only-of-type {\n",
       "        vertical-align: middle;\n",
       "    }\n",
       "\n",
       "    .dataframe tbody tr th {\n",
       "        vertical-align: top;\n",
       "    }\n",
       "\n",
       "    .dataframe thead th {\n",
       "        text-align: right;\n",
       "    }\n",
       "</style>\n",
       "<table border=\"1\" class=\"dataframe\">\n",
       "  <thead>\n",
       "    <tr style=\"text-align: right;\">\n",
       "      <th></th>\n",
       "      <th>species</th>\n",
       "    </tr>\n",
       "  </thead>\n",
       "  <tbody>\n",
       "    <tr>\n",
       "      <th>0</th>\n",
       "      <td>Adelie</td>\n",
       "    </tr>\n",
       "    <tr>\n",
       "      <th>1</th>\n",
       "      <td>Adelie</td>\n",
       "    </tr>\n",
       "    <tr>\n",
       "      <th>2</th>\n",
       "      <td>Adelie</td>\n",
       "    </tr>\n",
       "    <tr>\n",
       "      <th>3</th>\n",
       "      <td>Adelie</td>\n",
       "    </tr>\n",
       "    <tr>\n",
       "      <th>4</th>\n",
       "      <td>Adelie</td>\n",
       "    </tr>\n",
       "  </tbody>\n",
       "</table>\n",
       "</div>"
      ],
      "text/plain": [
       "  species\n",
       "0  Adelie\n",
       "1  Adelie\n",
       "2  Adelie\n",
       "3  Adelie\n",
       "4  Adelie"
      ]
     },
     "execution_count": 190,
     "metadata": {},
     "output_type": "execute_result"
    }
   ],
   "source": [
    "y.head()"
   ]
  },
  {
   "cell_type": "code",
   "execution_count": 191,
   "id": "4f93214f",
   "metadata": {},
   "outputs": [],
   "source": [
    "X_train, X_test, y_train, y_test = train_test_split(X, y, test_size=0.25, random_state=100)"
   ]
  },
  {
   "cell_type": "markdown",
   "id": "766b7622",
   "metadata": {},
   "source": [
    "Standardisation can be performed with the help of StandardScaler method of sklearn as below - "
   ]
  },
  {
   "cell_type": "code",
   "execution_count": 192,
   "id": "9d4f76bd",
   "metadata": {},
   "outputs": [],
   "source": [
    "from sklearn.preprocessing import StandardScaler\n",
    "\n",
    "sc=StandardScaler()\n",
    "X_train_standardised =sc.fit_transform(X_train)\n",
    "X_test_standardised =sc.transform(X_test)"
   ]
  },
  {
   "cell_type": "code",
   "execution_count": 193,
   "id": "7a00b295",
   "metadata": {},
   "outputs": [
    {
     "data": {
      "text/plain": [
       "array([[ 0.45175397, -1.87193161,  0.64957392, ..., -1.08077159,\n",
       "        -0.76980036, -0.40269363],\n",
       "       [ 0.58236008, -0.86968462,  1.01293885, ..., -1.08077159,\n",
       "        -0.76980036, -0.40269363],\n",
       "       [ 0.07859368, -1.47103281,  1.08561184, ...,  0.92526489,\n",
       "        -0.76980036, -0.40269363],\n",
       "       ...,\n",
       "       [ 0.93686235, -1.12024636,  1.95768768, ...,  0.92526489,\n",
       "        -0.76980036, -0.40269363],\n",
       "       [ 0.2278578 , -1.72159456,  0.50422794, ..., -1.08077159,\n",
       "        -0.76980036, -0.40269363],\n",
       "       [-1.86183983,  0.43323647, -0.58586686, ...,  0.92526489,\n",
       "        -0.76980036,  2.4832774 ]])"
      ]
     },
     "execution_count": 193,
     "metadata": {},
     "output_type": "execute_result"
    }
   ],
   "source": [
    "X_train_standardised"
   ]
  },
  {
   "cell_type": "code",
   "execution_count": 194,
   "id": "c6ae2db1",
   "metadata": {},
   "outputs": [
    {
     "data": {
      "text/plain": [
       "array([[ 0.63833412, -1.62136986,  0.79491989,  0.84473087, -1.08077159,\n",
       "        -0.76980036, -0.40269363],\n",
       "       [ 0.97417838, -0.76945992,  1.15828482,  2.07836928,  0.92526489,\n",
       "        -0.76980036, -0.40269363],\n",
       "       [-0.91028109,  1.18492171, -0.44052089,  0.59167684,  0.92526489,\n",
       "        -0.76980036,  2.4832774 ],\n",
       "       [-0.55577881,  0.88424762, -1.38526972, -0.98991086,  0.92526489,\n",
       "         1.29903811, -0.40269363],\n",
       "       [ 1.31002265, -0.36856112,  1.73966872,  1.31920718,  0.92526489,\n",
       "        -0.76980036, -0.40269363],\n",
       "       [-0.48114675,  0.63368587, -0.00448297, -0.26238052,  0.92526489,\n",
       "         1.29903811, -0.40269363],\n",
       "       [-1.47002153, -0.01777467, -1.02190478, -1.33786015, -1.08077159,\n",
       "        -0.76980036,  2.4832774 ],\n",
       "       [ 0.65699214, -1.37080811,  1.01293885,  1.5089977 ,  0.92526489,\n",
       "        -0.76980036, -0.40269363],\n",
       "       [ 1.2540486 ,  0.03233767,  1.95768768,  1.76205174,  0.92526489,\n",
       "        -0.76980036, -0.40269363],\n",
       "       [ 0.39577993, -1.57125751,  1.15828482,  0.21209579, -1.08077159,\n",
       "        -0.76980036, -0.40269363],\n",
       "       [-0.85430705,  0.08245002, -1.09457777, -0.51543455, -1.08077159,\n",
       "        -0.76980036,  2.4832774 ],\n",
       "       [-1.76854976, -0.01777467, -0.87655881, -1.27459664, -1.08077159,\n",
       "        -0.76980036,  2.4832774 ],\n",
       "       [ 0.30248986,  0.03233767, -0.58586686, -0.76848858, -1.08077159,\n",
       "         1.29903811, -0.40269363],\n",
       "       [-0.83564903,  0.23278707, -1.09457777, -0.8950156 , -1.08077159,\n",
       "        -0.76980036, -0.40269363],\n",
       "       [ 0.50772802, -0.56901052,  1.01293885,  1.63552472,  0.92526489,\n",
       "        -0.76980036, -0.40269363],\n",
       "       [-1.4327055 , -0.06788702, -1.23992375, -1.7174412 , -1.08077159,\n",
       "        -0.76980036, -0.40269363],\n",
       "       [ 0.50772802, -1.47103281,  1.01293885,  0.81309912, -1.08077159,\n",
       "        -0.76980036, -0.40269363],\n",
       "       [ 0.8622303 , -0.76945992,  0.50422794,  1.4457342 ,  0.92526489,\n",
       "        -0.76980036, -0.40269363],\n",
       "       [-0.23859257,  0.63368587, -0.44052089,  0.05393702,  0.92526489,\n",
       "        -0.76980036,  2.4832774 ],\n",
       "       [-1.11551925, -0.36856112, -0.22250193, -0.48380279, -1.08077159,\n",
       "        -0.76980036, -0.40269363],\n",
       "       [ 0.82491427, -1.57125751,  1.37630379,  1.38247069,  0.92526489,\n",
       "        -0.76980036, -0.40269363],\n",
       "       [-1.47002153, -0.56901052, -1.02190478, -0.83175209, -1.08077159,\n",
       "        -0.76980036,  2.4832774 ],\n",
       "       [ 0.00396162,  1.23503406, -0.3678479 ,  0.24372755,  0.92526489,\n",
       "         1.29903811, -0.40269363],\n",
       "       [-0.29456661,  0.03233767, -1.02190478, -1.08480612, -1.08077159,\n",
       "         1.29903811, -0.40269363],\n",
       "       [-1.5633116 , -0.16811172, -1.16725076, -1.33786015, -1.08077159,\n",
       "        -0.76980036, -0.40269363],\n",
       "       [ 0.3584639 ,  0.83413527, -0.44052089, -0.07258999, -1.08077159,\n",
       "         1.29903811, -0.40269363],\n",
       "       [-0.94759712,  0.13256237, -1.09457777, -0.83175209, -1.08077159,\n",
       "        -0.76980036, -0.40269363],\n",
       "       [-1.26478337,  0.28289942, -0.73121284, -1.08480612, -1.08077159,\n",
       "         1.29903811, -0.40269363],\n",
       "       [ 1.1234425 ,  0.33301177, -0.80388582, -1.02154261, -1.08077159,\n",
       "         1.29903811, -0.40269363],\n",
       "       [-1.50733756, -0.06788702, -1.02190478, -0.64196156, -1.08077159,\n",
       "         1.29903811, -0.40269363],\n",
       "       [-1.07820322,  0.98447232, -0.87655881, -0.32564402,  0.92526489,\n",
       "         1.29903811, -0.40269363],\n",
       "       [ 0.19054177, -1.37080811,  1.01293885,  1.00288964, -1.08077159,\n",
       "        -0.76980036, -0.40269363],\n",
       "       [ 0.20919978, -0.31844877, -0.73121284, -1.21133313, -1.08077159,\n",
       "         1.29903811, -0.40269363],\n",
       "       [-0.89162308,  1.68604521, -0.80388582, -0.70522507,  0.92526489,\n",
       "        -0.76980036,  2.4832774 ],\n",
       "       [ 0.48907   , -0.96990932,  1.3036308 ,  1.25594367,  0.92526489,\n",
       "        -0.76980036, -0.40269363],\n",
       "       [ 1.2540486 ,  0.63368587, -0.00448297,  0.30699105,  0.92526489,\n",
       "         1.29903811, -0.40269363],\n",
       "       [-1.5633116 , -0.11799937, -0.87655881, -1.08480612, -1.08077159,\n",
       "        -0.76980036,  2.4832774 ],\n",
       "       [-0.10798646, -1.52114516,  1.37630379,  0.62330859, -1.08077159,\n",
       "        -0.76980036, -0.40269363],\n",
       "       [-0.6677269 ,  0.33301177, -1.02190478, -1.27459664, -1.08077159,\n",
       "        -0.76980036, -0.40269363],\n",
       "       [-1.80586579,  0.58357352, -1.23992375, -1.11643787, -1.08077159,\n",
       "        -0.76980036,  2.4832774 ],\n",
       "       [ 0.26517383, -1.12024636,  1.37630379,  1.00288964,  0.92526489,\n",
       "        -0.76980036, -0.40269363],\n",
       "       [-1.35807344,  0.63368587, -0.58586686, -0.8950156 , -1.08077159,\n",
       "         1.29903811, -0.40269363],\n",
       "       [-0.42517271,  1.08469702, -0.22250193,  0.30699105,  0.92526489,\n",
       "        -0.76980036,  2.4832774 ],\n",
       "       [ 0.20919978, -0.71934757,  1.01293885,  1.38247069,  0.92526489,\n",
       "        -0.76980036, -0.40269363],\n",
       "       [-1.17149329,  1.38537111, -0.80388582,  0.05393702,  0.92526489,\n",
       "        -0.76980036, -0.40269363],\n",
       "       [ 0.33980589, -0.06788702, -0.80388582, -0.80012033, -1.08077159,\n",
       "         1.29903811, -0.40269363],\n",
       "       [ 1.36599669,  0.88424762, -0.00448297, -0.32564402,  0.92526489,\n",
       "         1.29903811, -0.40269363],\n",
       "       [-0.96625513,  0.28289942, -1.45794271, -0.73685683, -1.08077159,\n",
       "        -0.76980036,  2.4832774 ],\n",
       "       [-0.12664448, -1.42092046,  1.23095781,  0.49678158, -1.08077159,\n",
       "        -0.76980036, -0.40269363],\n",
       "       [ 1.57123485, -0.81957227,  1.44897677,  1.57226121,  0.92526489,\n",
       "        -0.76980036, -0.40269363],\n",
       "       [ 0.75028221, -1.07013402,  0.57690093,  1.63552472,  0.92526489,\n",
       "        -0.76980036, -0.40269363],\n",
       "       [-0.02926273, -0.04224474, -0.0106453 , -0.00710671,  0.92526489,\n",
       "        -0.76980036,  2.4832774 ],\n",
       "       [ 0.91820434,  1.18492171,  0.79491989,  0.11720053,  0.92526489,\n",
       "         1.29903811, -0.40269363],\n",
       "       [ 1.19807456,  0.58357352, -0.07715595, -1.02154261, -1.08077159,\n",
       "         1.29903811, -0.40269363],\n",
       "       [-0.64906889,  0.88424762, -0.14982894, -0.26238052,  0.92526489,\n",
       "        -0.76980036,  2.4832774 ],\n",
       "       [-1.19015131,  0.73391057, -1.53061569, -0.76848858,  0.92526489,\n",
       "        -0.76980036, -0.40269363],\n",
       "       [ 0.30248986, -1.67148221,  0.94026586,  0.24372755, -1.08077159,\n",
       "        -0.76980036, -0.40269363],\n",
       "       [ 0.20919978, -1.72159456,  1.01293885,  0.6865721 , -1.08077159,\n",
       "        -0.76980036, -0.40269363],\n",
       "       [ 0.32114787, -1.32069576,  0.64957392, -0.00932648, -1.08077159,\n",
       "        -0.76980036, -0.40269363],\n",
       "       [-0.59309484, -1.77170691,  0.94026586,  0.56004509, -1.08077159,\n",
       "        -0.76980036, -0.40269363],\n",
       "       [-0.94759712, -0.06788702, -0.73121284, -1.46438717, -1.08077159,\n",
       "        -0.76980036,  2.4832774 ],\n",
       "       [-1.17149329,  0.43323647, -0.58586686, -0.57869806,  0.92526489,\n",
       "         1.29903811, -0.40269363],\n",
       "       [ 1.34733867,  1.33525876, -0.22250193, -0.64196156,  0.92526489,\n",
       "         1.29903811, -0.40269363],\n",
       "       [ 0.97417838,  1.33525876,  0.14086301, -0.19911701,  0.92526489,\n",
       "         1.29903811, -0.40269363],\n",
       "       [-1.28344138,  0.43323647, -1.67596167, -0.38890753,  0.92526489,\n",
       "         1.29903811, -0.40269363],\n",
       "       [ 1.3846547 , -0.46878582,  2.10303366,  1.63552472,  0.92526489,\n",
       "        -0.76980036, -0.40269363],\n",
       "       [ 0.69430816, -1.12024636,  1.01293885,  1.82531524,  0.92526489,\n",
       "        -0.76980036, -0.40269363],\n",
       "       [-1.22746734,  0.83413527, -1.60328868, -1.55928243,  0.92526489,\n",
       "         1.29903811, -0.40269363],\n",
       "       [ 2.59742565,  0.28289942, -1.45794271, -0.64196156, -1.08077159,\n",
       "         1.29903811, -0.40269363],\n",
       "       [ 1.06746846, -0.66923522,  2.03036067,  2.20489629,  0.92526489,\n",
       "        -0.76980036, -0.40269363],\n",
       "       [ 0.63833412, -1.52114516,  0.57690093,  0.49678158, -1.08077159,\n",
       "        -0.76980036, -0.40269363],\n",
       "       [-1.09686124,  0.43323647, -1.16725076, -0.32564402,  0.92526489,\n",
       "        -0.76980036, -0.40269363],\n",
       "       [-0.21993455, -2.07238101,  1.01293885,  1.00288964, -1.08077159,\n",
       "        -0.76980036, -0.40269363],\n",
       "       [-1.39538947,  0.28289942, -1.16725076, -0.64196156, -1.08077159,\n",
       "        -0.76980036,  2.4832774 ],\n",
       "       [ 0.2278578 , -1.77170691,  0.64957392,  0.11720053, -1.08077159,\n",
       "        -0.76980036, -0.40269363],\n",
       "       [-2.04841998, -0.56901052, -1.67596167, -1.65417769, -1.08077159,\n",
       "         1.29903811, -0.40269363],\n",
       "       [-2.23500013, -0.86968462, -0.9492318 , -1.46438717, -1.08077159,\n",
       "         1.29903811, -0.40269363],\n",
       "       [ 1.27270662,  0.93435997, -0.3678479 , -0.83175209,  0.92526489,\n",
       "         1.29903811, -0.40269363],\n",
       "       [ 0.65699214,  0.53346117, -0.44052089, -0.45217104, -1.08077159,\n",
       "         1.29903811, -0.40269363],\n",
       "       [-1.11551925,  0.18267472, -1.02190478, -0.98991086, -1.08077159,\n",
       "         1.29903811, -0.40269363],\n",
       "       [ 0.82491427, -1.12024636,  1.3036308 ,  0.81309912, -1.08077159,\n",
       "        -0.76980036, -0.40269363],\n",
       "       [ 1.51526081, -0.06788702,  1.95768768,  1.5089977 ,  0.92526489,\n",
       "        -0.76980036, -0.40269363],\n",
       "       [-0.64906889,  0.68379822, -1.31259673, -0.83175209,  0.92526489,\n",
       "        -0.76980036, -0.40269363],\n",
       "       [ 0.8622303 , -1.07013402,  1.52164976,  1.4457342 ,  0.92526489,\n",
       "        -0.76980036, -0.40269363],\n",
       "       [-1.65660167, -0.66923522, -1.09457777, -1.46438717, -1.08077159,\n",
       "        -0.76980036,  2.4832774 ],\n",
       "       [ 0.93686235, -1.22047106,  1.37630379,  1.19268016, -1.08077159,\n",
       "        -0.76980036, -0.40269363]])"
      ]
     },
     "execution_count": 194,
     "metadata": {},
     "output_type": "execute_result"
    }
   ],
   "source": [
    "X_test_standardised"
   ]
  },
  {
   "cell_type": "markdown",
   "id": "c3cce597",
   "metadata": {},
   "source": [
    "As expected, both X_train and X_test are standardised around 0. We can also verify that both splits will have Mean 1 and Standard deviation as 1 :"
   ]
  },
  {
   "cell_type": "code",
   "execution_count": 195,
   "id": "0a8dc530",
   "metadata": {},
   "outputs": [
    {
     "name": "stdout",
     "output_type": "stream",
     "text": [
      "Mean of X_train is : 8.950635237288084e-17\n",
      "Standard Deviation of X_train is : 1.0\n",
      "Mean of X_test is : -0.0666804481475174\n",
      "Standard Deviation of X_test is : 1.0317952796662435\n"
     ]
    }
   ],
   "source": [
    "print(\"Mean of X_train is : \"+str(X_train_standardised.mean()))\n",
    "print(\"Standard Deviation of X_train is : \"+str(X_train_standardised.std()))\n",
    "print(\"Mean of X_test is : \"+str(X_test_standardised.mean()))\n",
    "print(\"Standard Deviation of X_test is : \"+str(X_test_standardised.std()))"
   ]
  },
  {
   "cell_type": "markdown",
   "id": "a166f184",
   "metadata": {},
   "source": [
    "### Feature Scaling -  Normalisation"
   ]
  },
  {
   "cell_type": "markdown",
   "id": "379b15e2",
   "metadata": {},
   "source": [
    "Normalisation can be performed with the help of MinMaxScaler method of sklearn as below -"
   ]
  },
  {
   "cell_type": "code",
   "execution_count": 196,
   "id": "038993d8",
   "metadata": {},
   "outputs": [],
   "source": [
    "from sklearn.preprocessing import MinMaxScaler\n",
    "\n",
    "scaler_minmax = MinMaxScaler()\n",
    "X_train_normalised = scaler_minmax.fit_transform(X_train)\n",
    "X_test_normalised = scaler_minmax.fit_transform(X_test)"
   ]
  },
  {
   "cell_type": "code",
   "execution_count": 197,
   "id": "d2736193",
   "metadata": {},
   "outputs": [
    {
     "data": {
      "text/plain": [
       "array([[0.49808429, 0.03614458, 0.6440678 , ..., 0.        , 0.        ,\n",
       "        0.        ],\n",
       "       [0.52490421, 0.27710843, 0.72881356, ..., 0.        , 0.        ,\n",
       "        0.        ],\n",
       "       [0.42145594, 0.13253012, 0.74576271, ..., 1.        , 0.        ,\n",
       "        0.        ],\n",
       "       ...,\n",
       "       [0.59770115, 0.21686747, 0.94915254, ..., 1.        , 0.        ,\n",
       "        0.        ],\n",
       "       [0.45210728, 0.07228916, 0.61016949, ..., 0.        , 0.        ,\n",
       "        0.        ],\n",
       "       [0.02298851, 0.59036145, 0.3559322 , ..., 1.        , 0.        ,\n",
       "        1.        ]])"
      ]
     },
     "execution_count": 197,
     "metadata": {},
     "output_type": "execute_result"
    }
   ],
   "source": [
    "X_train_normalised"
   ]
  },
  {
   "cell_type": "code",
   "execution_count": 198,
   "id": "1976a350",
   "metadata": {},
   "outputs": [
    {
     "data": {
      "text/plain": [
       "array([[0.59459459, 0.12      , 0.65384615, 0.65322581, 0.        ,\n",
       "        0.        , 0.        ],\n",
       "       [0.66409266, 0.34666667, 0.75      , 0.96774194, 1.        ,\n",
       "        0.        , 0.        ],\n",
       "       [0.27413127, 0.86666667, 0.32692308, 0.58870968, 1.        ,\n",
       "        0.        , 1.        ],\n",
       "       [0.34749035, 0.78666667, 0.07692308, 0.18548387, 1.        ,\n",
       "        1.        , 0.        ],\n",
       "       [0.73359073, 0.45333333, 0.90384615, 0.77419355, 1.        ,\n",
       "        0.        , 0.        ],\n",
       "       [0.36293436, 0.72      , 0.44230769, 0.37096774, 1.        ,\n",
       "        1.        , 0.        ],\n",
       "       [0.15830116, 0.54666667, 0.17307692, 0.09677419, 0.        ,\n",
       "        0.        , 1.        ],\n",
       "       [0.5984556 , 0.18666667, 0.71153846, 0.82258065, 1.        ,\n",
       "        0.        , 0.        ],\n",
       "       [0.72200772, 0.56      , 0.96153846, 0.88709677, 1.        ,\n",
       "        0.        , 0.        ],\n",
       "       [0.54440154, 0.13333333, 0.75      , 0.49193548, 0.        ,\n",
       "        0.        , 0.        ],\n",
       "       [0.28571429, 0.57333333, 0.15384615, 0.30645161, 0.        ,\n",
       "        0.        , 1.        ],\n",
       "       [0.0965251 , 0.54666667, 0.21153846, 0.11290323, 0.        ,\n",
       "        0.        , 1.        ],\n",
       "       [0.52509653, 0.56      , 0.28846154, 0.24193548, 0.        ,\n",
       "        1.        , 0.        ],\n",
       "       [0.28957529, 0.61333333, 0.15384615, 0.20967742, 0.        ,\n",
       "        0.        , 0.        ],\n",
       "       [0.56756757, 0.4       , 0.71153846, 0.85483871, 1.        ,\n",
       "        0.        , 0.        ],\n",
       "       [0.16602317, 0.53333333, 0.11538462, 0.        , 0.        ,\n",
       "        0.        , 0.        ],\n",
       "       [0.56756757, 0.16      , 0.71153846, 0.64516129, 0.        ,\n",
       "        0.        , 0.        ],\n",
       "       [0.64092664, 0.34666667, 0.57692308, 0.80645161, 1.        ,\n",
       "        0.        , 0.        ],\n",
       "       [0.41312741, 0.72      , 0.32692308, 0.4516129 , 1.        ,\n",
       "        0.        , 1.        ],\n",
       "       [0.23166023, 0.45333333, 0.38461538, 0.31451613, 0.        ,\n",
       "        0.        , 0.        ],\n",
       "       [0.63320463, 0.13333333, 0.80769231, 0.79032258, 1.        ,\n",
       "        0.        , 0.        ],\n",
       "       [0.15830116, 0.4       , 0.17307692, 0.22580645, 0.        ,\n",
       "        0.        , 1.        ],\n",
       "       [0.46332046, 0.88      , 0.34615385, 0.5       , 1.        ,\n",
       "        1.        , 0.        ],\n",
       "       [0.4015444 , 0.56      , 0.17307692, 0.16129032, 0.        ,\n",
       "        1.        , 0.        ],\n",
       "       [0.13899614, 0.50666667, 0.13461538, 0.09677419, 0.        ,\n",
       "        0.        , 0.        ],\n",
       "       [0.53667954, 0.77333333, 0.32692308, 0.41935484, 0.        ,\n",
       "        1.        , 0.        ],\n",
       "       [0.26640927, 0.58666667, 0.15384615, 0.22580645, 0.        ,\n",
       "        0.        , 0.        ],\n",
       "       [0.2007722 , 0.62666667, 0.25      , 0.16129032, 0.        ,\n",
       "        1.        , 0.        ],\n",
       "       [0.69498069, 0.64      , 0.23076923, 0.17741935, 0.        ,\n",
       "        1.        , 0.        ],\n",
       "       [0.15057915, 0.53333333, 0.17307692, 0.27419355, 0.        ,\n",
       "        1.        , 0.        ],\n",
       "       [0.23938224, 0.81333333, 0.21153846, 0.35483871, 1.        ,\n",
       "        1.        , 0.        ],\n",
       "       [0.5019305 , 0.18666667, 0.71153846, 0.69354839, 0.        ,\n",
       "        0.        , 0.        ],\n",
       "       [0.50579151, 0.46666667, 0.25      , 0.12903226, 0.        ,\n",
       "        1.        , 0.        ],\n",
       "       [0.27799228, 1.        , 0.23076923, 0.25806452, 1.        ,\n",
       "        0.        , 1.        ],\n",
       "       [0.56370656, 0.29333333, 0.78846154, 0.75806452, 1.        ,\n",
       "        0.        , 0.        ],\n",
       "       [0.72200772, 0.72      , 0.44230769, 0.51612903, 1.        ,\n",
       "        1.        , 0.        ],\n",
       "       [0.13899614, 0.52      , 0.21153846, 0.16129032, 0.        ,\n",
       "        0.        , 1.        ],\n",
       "       [0.44015444, 0.14666667, 0.80769231, 0.59677419, 0.        ,\n",
       "        0.        , 0.        ],\n",
       "       [0.32432432, 0.64      , 0.17307692, 0.11290323, 0.        ,\n",
       "        0.        , 0.        ],\n",
       "       [0.08880309, 0.70666667, 0.11538462, 0.15322581, 0.        ,\n",
       "        0.        , 1.        ],\n",
       "       [0.51737452, 0.25333333, 0.80769231, 0.69354839, 1.        ,\n",
       "        0.        , 0.        ],\n",
       "       [0.18146718, 0.72      , 0.28846154, 0.20967742, 0.        ,\n",
       "        1.        , 0.        ],\n",
       "       [0.37451737, 0.84      , 0.38461538, 0.51612903, 1.        ,\n",
       "        0.        , 1.        ],\n",
       "       [0.50579151, 0.36      , 0.71153846, 0.79032258, 1.        ,\n",
       "        0.        , 0.        ],\n",
       "       [0.22007722, 0.92      , 0.23076923, 0.4516129 , 1.        ,\n",
       "        0.        , 0.        ],\n",
       "       [0.53281853, 0.53333333, 0.23076923, 0.23387097, 0.        ,\n",
       "        1.        , 0.        ],\n",
       "       [0.74517375, 0.78666667, 0.44230769, 0.35483871, 1.        ,\n",
       "        1.        , 0.        ],\n",
       "       [0.26254826, 0.62666667, 0.05769231, 0.25      , 0.        ,\n",
       "        0.        , 1.        ],\n",
       "       [0.43629344, 0.17333333, 0.76923077, 0.56451613, 0.        ,\n",
       "        0.        , 0.        ],\n",
       "       [0.78764479, 0.33333333, 0.82692308, 0.83870968, 1.        ,\n",
       "        0.        , 0.        ],\n",
       "       [0.61776062, 0.26666667, 0.59615385, 0.85483871, 1.        ,\n",
       "        0.        , 0.        ],\n",
       "       [0.45644517, 0.54015595, 0.44067701, 0.4360498 , 1.        ,\n",
       "        0.        , 1.        ],\n",
       "       [0.65250965, 0.86666667, 0.65384615, 0.46774194, 1.        ,\n",
       "        1.        , 0.        ],\n",
       "       [0.71042471, 0.70666667, 0.42307692, 0.17741935, 0.        ,\n",
       "        1.        , 0.        ],\n",
       "       [0.32818533, 0.78666667, 0.40384615, 0.37096774, 1.        ,\n",
       "        0.        , 1.        ],\n",
       "       [0.21621622, 0.74666667, 0.03846154, 0.24193548, 1.        ,\n",
       "        0.        , 0.        ],\n",
       "       [0.52509653, 0.10666667, 0.69230769, 0.5       , 0.        ,\n",
       "        0.        , 0.        ],\n",
       "       [0.50579151, 0.09333333, 0.71153846, 0.61290323, 0.        ,\n",
       "        0.        , 0.        ],\n",
       "       [0.52895753, 0.2       , 0.61538462, 0.43548387, 0.        ,\n",
       "        0.        , 0.        ],\n",
       "       [0.33976834, 0.08      , 0.69230769, 0.58064516, 0.        ,\n",
       "        0.        , 0.        ],\n",
       "       [0.26640927, 0.53333333, 0.25      , 0.06451613, 0.        ,\n",
       "        0.        , 1.        ],\n",
       "       [0.22007722, 0.66666667, 0.28846154, 0.29032258, 1.        ,\n",
       "        1.        , 0.        ],\n",
       "       [0.74131274, 0.90666667, 0.38461538, 0.27419355, 1.        ,\n",
       "        1.        , 0.        ],\n",
       "       [0.66409266, 0.90666667, 0.48076923, 0.38709677, 1.        ,\n",
       "        1.        , 0.        ],\n",
       "       [0.1969112 , 0.66666667, 0.        , 0.33870968, 1.        ,\n",
       "        1.        , 0.        ],\n",
       "       [0.74903475, 0.42666667, 1.        , 0.85483871, 1.        ,\n",
       "        0.        , 0.        ],\n",
       "       [0.60617761, 0.25333333, 0.71153846, 0.90322581, 1.        ,\n",
       "        0.        , 0.        ],\n",
       "       [0.20849421, 0.77333333, 0.01923077, 0.04032258, 1.        ,\n",
       "        1.        , 0.        ],\n",
       "       [1.        , 0.62666667, 0.05769231, 0.27419355, 0.        ,\n",
       "        1.        , 0.        ],\n",
       "       [0.68339768, 0.37333333, 0.98076923, 1.        , 1.        ,\n",
       "        0.        , 0.        ],\n",
       "       [0.59459459, 0.14666667, 0.59615385, 0.56451613, 0.        ,\n",
       "        0.        , 0.        ],\n",
       "       [0.23552124, 0.66666667, 0.13461538, 0.35483871, 1.        ,\n",
       "        0.        , 0.        ],\n",
       "       [0.41698842, 0.        , 0.71153846, 0.69354839, 0.        ,\n",
       "        0.        , 0.        ],\n",
       "       [0.17374517, 0.62666667, 0.13461538, 0.27419355, 0.        ,\n",
       "        0.        , 1.        ],\n",
       "       [0.50965251, 0.08      , 0.61538462, 0.46774194, 0.        ,\n",
       "        0.        , 0.        ],\n",
       "       [0.03861004, 0.4       , 0.        , 0.01612903, 0.        ,\n",
       "        1.        , 0.        ],\n",
       "       [0.        , 0.32      , 0.19230769, 0.06451613, 0.        ,\n",
       "        1.        , 0.        ],\n",
       "       [0.72586873, 0.8       , 0.34615385, 0.22580645, 1.        ,\n",
       "        1.        , 0.        ],\n",
       "       [0.5984556 , 0.69333333, 0.32692308, 0.32258065, 0.        ,\n",
       "        1.        , 0.        ],\n",
       "       [0.23166023, 0.6       , 0.17307692, 0.18548387, 0.        ,\n",
       "        1.        , 0.        ],\n",
       "       [0.63320463, 0.25333333, 0.78846154, 0.64516129, 0.        ,\n",
       "        0.        , 0.        ],\n",
       "       [0.77606178, 0.53333333, 0.96153846, 0.82258065, 1.        ,\n",
       "        0.        , 0.        ],\n",
       "       [0.32818533, 0.73333333, 0.09615385, 0.22580645, 1.        ,\n",
       "        0.        , 0.        ],\n",
       "       [0.64092664, 0.26666667, 0.84615385, 0.80645161, 1.        ,\n",
       "        0.        , 0.        ],\n",
       "       [0.11969112, 0.37333333, 0.15384615, 0.06451613, 0.        ,\n",
       "        0.        , 1.        ],\n",
       "       [0.65637066, 0.22666667, 0.80769231, 0.74193548, 0.        ,\n",
       "        0.        , 0.        ]])"
      ]
     },
     "execution_count": 198,
     "metadata": {},
     "output_type": "execute_result"
    }
   ],
   "source": [
    "X_test_normalised"
   ]
  },
  {
   "cell_type": "markdown",
   "id": "860113ef",
   "metadata": {},
   "source": [
    "The minimum and maximum values can be confrimed to be 0 and 1 as below  :"
   ]
  },
  {
   "cell_type": "code",
   "execution_count": 199,
   "id": "4a0a1702",
   "metadata": {},
   "outputs": [
    {
     "name": "stdout",
     "output_type": "stream",
     "text": [
      "Min value of X_train is : 0.0\n",
      "Max value of X_train is : 1.0\n",
      "Min value of X_test is : 0.0\n",
      "Max value of X_test is : 1.0\n"
     ]
    }
   ],
   "source": [
    "print(\"Min value of X_train is : \"+str(X_train_normalised.min()))\n",
    "print(\"Max value of X_train is : \"+str(X_train_normalised.max()))\n",
    "print(\"Min value of X_test is : \"+str(X_test_normalised.min()))\n",
    "print(\"Max value of X_test is : \"+str(X_test_normalised.max()))\n"
   ]
  }
 ],
 "metadata": {
  "kernelspec": {
   "display_name": "Python 3",
   "language": "python",
   "name": "python3"
  },
  "language_info": {
   "codemirror_mode": {
    "name": "ipython",
    "version": 3
   },
   "file_extension": ".py",
   "mimetype": "text/x-python",
   "name": "python",
   "nbconvert_exporter": "python",
   "pygments_lexer": "ipython3",
   "version": "3.8.8"
  }
 },
 "nbformat": 4,
 "nbformat_minor": 5
}
