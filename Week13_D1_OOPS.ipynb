{
 "cells": [
  {
   "cell_type": "markdown",
   "id": "cd60375d",
   "metadata": {},
   "source": [
    "# Introduction to OOPs"
   ]
  },
  {
   "cell_type": "markdown",
   "id": "3216c3bd",
   "metadata": {},
   "source": [
    "### Class and Objects"
   ]
  },
  {
   "cell_type": "code",
   "execution_count": 130,
   "id": "5dff0e5d",
   "metadata": {},
   "outputs": [],
   "source": [
    "# Sntax for defining a class is as below-\n",
    "\n",
    "class class_name:\n",
    "    pass\n",
    "\n",
    "# pass is used just to avoid execution error. Class body can follow as described few cells below"
   ]
  },
  {
   "cell_type": "code",
   "execution_count": 89,
   "id": "98c1bf82",
   "metadata": {},
   "outputs": [],
   "source": [
    "# defining a class called \"Dog\"\n",
    "class dog:\n",
    "    pass"
   ]
  },
  {
   "cell_type": "code",
   "execution_count": 90,
   "id": "04ca2493",
   "metadata": {},
   "outputs": [],
   "source": [
    "# Creation of object \"dog1\" under class \"dog\"\n",
    "\n",
    "dog1 = dog()"
   ]
  },
  {
   "cell_type": "code",
   "execution_count": 91,
   "id": "c618d63c",
   "metadata": {},
   "outputs": [],
   "source": [
    "# Similarly. creation of object \"dog2\" and \"dog3\" under class \"dog\". This is to show that same class can have multiple objects\n",
    "\n",
    "dog2= dog()"
   ]
  },
  {
   "cell_type": "code",
   "execution_count": 92,
   "id": "a0ea999d",
   "metadata": {},
   "outputs": [],
   "source": [
    "dog3 = dog()"
   ]
  },
  {
   "cell_type": "code",
   "execution_count": 93,
   "id": "eb5a9d70",
   "metadata": {
    "scrolled": false
   },
   "outputs": [
    {
     "name": "stdout",
     "output_type": "stream",
     "text": [
      "<__main__.dog object at 0x0000027F114B2C70>\n",
      "<__main__.dog object at 0x0000027F114B22B0>\n",
      "<__main__.dog object at 0x0000027F113AAD60>\n"
     ]
    }
   ],
   "source": [
    "# when we try to print the objects, it gives us the physical memory location of where the objects are stored in backend. \n",
    "\n",
    "# Remember, a class is a logical entity, no memory is allocated for a class. But objects are physical entities \n",
    "# which take up memory.\n",
    "\n",
    "print(dog1)\n",
    "print(dog2)\n",
    "print(dog3)"
   ]
  },
  {
   "cell_type": "markdown",
   "id": "a0d5e998",
   "metadata": {},
   "source": [
    "### __init___  : The Class Constructor function"
   ]
  },
  {
   "cell_type": "code",
   "execution_count": 94,
   "id": "b1418a84",
   "metadata": {},
   "outputs": [],
   "source": [
    "# __init__ is the Class constructor and its job is to assign values to the data elements of a class\n",
    "\n",
    "# there can be multiple parameters associated with each class. In below example, we are defining a \"dog\" \n",
    "# class with {name,age,breed,color} as parameters\n",
    "\n",
    "class dog:\n",
    "    def __init__( self, name,age, breed, color):\n",
    "        self.name= name\n",
    "        self.age=age\n",
    "        self.breed= breed\n",
    "        self.color = color "
   ]
  },
  {
   "cell_type": "markdown",
   "id": "7ccc2621",
   "metadata": {},
   "source": [
    "### Class Attribute and Instance Attribute"
   ]
  },
  {
   "cell_type": "code",
   "execution_count": 1,
   "id": "aae4805f",
   "metadata": {},
   "outputs": [],
   "source": [
    "# Attributes can also be defined outside the Constructor\n",
    "\n",
    "# Those defined outside the constructor are called Class Attributes, and will have same value for \n",
    "# entire class ( All objects under class)\n",
    "\n",
    "# Those defined inside the constructor are called Instance Attributes\n",
    "\n",
    "# Instance attributes are accesed by explicit use of \"Self\" keyword. It helps in defining \n",
    "# ( initialising ) these variables differently for multiple objects \n",
    "\n",
    "# Without \"self\" prefix, the Instance attributes an methods can't be accesed\n",
    "\n",
    "class dog:\n",
    "    legs_count = '4'                                      # Class Attribute\n",
    "    animal_type = 'mammal'                                # Class Attribute\n",
    "    def __init__( self, name,age, breed, color):\n",
    "        self.name= name                                   # Instance Attribute\n",
    "        self.age=age                                      # Instance Attribute\n",
    "        self.breed= breed                                 # Instance Attribute\n",
    "        self.color = color                                # Instance Attribute"
   ]
  },
  {
   "cell_type": "markdown",
   "id": "ebd77c0f",
   "metadata": {},
   "source": [
    "### Methods "
   ]
  },
  {
   "cell_type": "code",
   "execution_count": 2,
   "id": "22938422",
   "metadata": {},
   "outputs": [],
   "source": [
    "# Methods are nothing but functions a class can perform\n",
    "\n",
    "# The synta for defining methods is as per below example\n",
    "\n",
    "# Here we are defining a class \"dog\" which has 2 methods -> Bark and Description\n",
    "\n",
    "\n",
    "\n",
    "class dog:\n",
    "    legs_count = '4'\n",
    "    animal_type = 'mammal'\n",
    "    def __init__( self, name,age, breed, color):\n",
    "        self.name= name\n",
    "        self.age=age\n",
    "        self.breed= breed\n",
    "        self.color = color \n",
    "    def bark(Self):\n",
    "        return \"Dog barks\"\n",
    "    def description(self):\n",
    "        if(self.age<2):\n",
    "            return f\"{self.name} is a {self.breed} puppy, {self.age} years old. The color is {self.color} \"\n",
    "        else:\n",
    "            return f\"{self.name} is  {self.breed} breed dog but NOT a puppy, {self.age} years old. The color is {self.color} \""
   ]
  },
  {
   "cell_type": "code",
   "execution_count": 98,
   "id": "3c70dd41",
   "metadata": {},
   "outputs": [],
   "source": [
    "# Defining objects of class dog\n",
    "\n",
    "dog1 = dog('Tommy',2,'Labra','brown')"
   ]
  },
  {
   "cell_type": "code",
   "execution_count": 99,
   "id": "a754871b",
   "metadata": {},
   "outputs": [],
   "source": [
    "dog2 = dog('Heera',1,'Husky','white')"
   ]
  },
  {
   "cell_type": "code",
   "execution_count": 100,
   "id": "e5a9e710",
   "metadata": {},
   "outputs": [],
   "source": [
    "dog3 = dog('Jimmy',10,'Hybrid','black')"
   ]
  },
  {
   "cell_type": "code",
   "execution_count": 104,
   "id": "f872e9c7",
   "metadata": {
    "scrolled": true
   },
   "outputs": [
    {
     "ename": "TypeError",
     "evalue": "__init__() missing 1 required positional argument: 'color'",
     "output_type": "error",
     "traceback": [
      "\u001b[1;31m---------------------------------------------------------------------------\u001b[0m",
      "\u001b[1;31mTypeError\u001b[0m                                 Traceback (most recent call last)",
      "\u001b[1;32m<ipython-input-104-faee27622614>\u001b[0m in \u001b[0;36m<module>\u001b[1;34m\u001b[0m\n\u001b[0;32m      1\u001b[0m \u001b[1;31m# ALl parameters must be provided in same order as class definiton. Otherwise, the Object creation will error\u001b[0m\u001b[1;33m\u001b[0m\u001b[1;33m\u001b[0m\u001b[1;33m\u001b[0m\u001b[0m\n\u001b[0;32m      2\u001b[0m \u001b[1;33m\u001b[0m\u001b[0m\n\u001b[1;32m----> 3\u001b[1;33m \u001b[0mdog4\u001b[0m \u001b[1;33m=\u001b[0m \u001b[0mdog\u001b[0m\u001b[1;33m(\u001b[0m\u001b[1;34m'Jimmy'\u001b[0m\u001b[1;33m,\u001b[0m\u001b[1;36m10\u001b[0m\u001b[1;33m,\u001b[0m\u001b[1;34m'Hybrid'\u001b[0m\u001b[1;33m)\u001b[0m\u001b[1;33m\u001b[0m\u001b[1;33m\u001b[0m\u001b[0m\n\u001b[0m",
      "\u001b[1;31mTypeError\u001b[0m: __init__() missing 1 required positional argument: 'color'"
     ]
    }
   ],
   "source": [
    "# ALl parameters must be provided in same order as class definiton. Otherwise, the Object creation will error\n",
    "\n",
    "dog4 = dog('Jimmy',10,'Hybrid')"
   ]
  },
  {
   "cell_type": "code",
   "execution_count": 105,
   "id": "a982eec0",
   "metadata": {},
   "outputs": [],
   "source": [
    "dog3 = dog('Black',10,'Hybrid','Jimmy')"
   ]
  },
  {
   "cell_type": "code",
   "execution_count": 107,
   "id": "59cb7a4f",
   "metadata": {},
   "outputs": [
    {
     "name": "stdout",
     "output_type": "stream",
     "text": [
      "Black is  Hybrid breed dog but NOT a puppy, 10 years old. The color is Jimmy \n"
     ]
    }
   ],
   "source": [
    "# Example of how methods can be called from objects\n",
    "\n",
    "print(dog3.description())"
   ]
  },
  {
   "cell_type": "markdown",
   "id": "b5a5c387",
   "metadata": {},
   "source": [
    "## Inheritance"
   ]
  },
  {
   "cell_type": "code",
   "execution_count": 108,
   "id": "72bc7d5e",
   "metadata": {},
   "outputs": [],
   "source": [
    "# Syntax for Defining Child classes \n",
    "\n",
    "# by using this syntax, we are defining that \"child_class\" is a child of \"parent_class\"\n",
    "\n",
    "class parent_class:\n",
    "  #body of parent class\n",
    "    pass\n",
    "\n",
    "class child_class( parent_class):\n",
    "  #body of child class\n",
    "    pass"
   ]
  },
  {
   "cell_type": "code",
   "execution_count": 109,
   "id": "46102bf4",
   "metadata": {},
   "outputs": [],
   "source": [
    "# In this example, we are defining a parent class Occupation, with child classes as teacher,doctor and begger\n",
    "\n",
    "# there is a Parent class method -> good_job which will be accesible to all the child classes\n",
    "\n",
    "# Each child class have their own method each which no other class will have access to\n",
    "\n",
    "class Occupation:          #parent class\n",
    "\n",
    "    def __init__(self, name, income, work_hours):\n",
    "        self.name = name \n",
    "        self.income = income  \n",
    "        self.work_hours= work_hours\n",
    "\n",
    "    def good_job(self):\n",
    "        if(self.income>300000 and self.work_hours<25 ):\n",
    "            return f\"{self.name} is a good job\"\n",
    "        else:\n",
    "             return f\"{self.name} is NOT a good job\"\n",
    "            \n",
    "\n",
    "class teacher(Occupation):     #child class\n",
    "     def teacher_desc(self):\n",
    "        return \"Teacher educates students\"\n",
    "\n",
    "class doctor(Occupation):     #child class\n",
    "    def doctor_desc(self):\n",
    "        return \"Doctor heals people\"\n",
    "    \n",
    "class begger(Occupation):     #child class\n",
    "    def begger_desc(self):\n",
    "        return \"Begger begs people\""
   ]
  },
  {
   "cell_type": "code",
   "execution_count": 111,
   "id": "18d1eda6",
   "metadata": {},
   "outputs": [
    {
     "name": "stdout",
     "output_type": "stream",
     "text": [
      "Teacher educates students\n"
     ]
    }
   ],
   "source": [
    "# teacher class is able to access its own method teacher_desc\n",
    "\n",
    "person1 = teacher('teacher',340000,20)\n",
    "print(person1.teacher_desc())"
   ]
  },
  {
   "cell_type": "code",
   "execution_count": 112,
   "id": "dbddbf27",
   "metadata": {},
   "outputs": [
    {
     "name": "stdout",
     "output_type": "stream",
     "text": [
      "Begger begs people\n",
      "begger is NOT a good job\n"
     ]
    }
   ],
   "source": [
    "# begger class is able to access its own method begger_desc\n",
    "\n",
    "# begger class is also able to use method \"good_job\" which is actually a method of parent class \"Occupation\"\n",
    "\n",
    "person2 = begger('begger',1000,23)\n",
    "print(person2.begger_desc())\n",
    "print(person2.good_job())"
   ]
  },
  {
   "cell_type": "code",
   "execution_count": 113,
   "id": "002816f8",
   "metadata": {},
   "outputs": [
    {
     "ename": "AttributeError",
     "evalue": "'teacher' object has no attribute 'doctor_desc'",
     "output_type": "error",
     "traceback": [
      "\u001b[1;31m---------------------------------------------------------------------------\u001b[0m",
      "\u001b[1;31mAttributeError\u001b[0m                            Traceback (most recent call last)",
      "\u001b[1;32m<ipython-input-113-90d64992cdb1>\u001b[0m in \u001b[0;36m<module>\u001b[1;34m\u001b[0m\n\u001b[0;32m      3\u001b[0m \u001b[1;33m\u001b[0m\u001b[0m\n\u001b[0;32m      4\u001b[0m \u001b[0mperson1\u001b[0m \u001b[1;33m=\u001b[0m \u001b[0mteacher\u001b[0m\u001b[1;33m(\u001b[0m\u001b[1;34m'teacher'\u001b[0m\u001b[1;33m,\u001b[0m\u001b[1;36m340000\u001b[0m\u001b[1;33m,\u001b[0m\u001b[1;36m20\u001b[0m\u001b[1;33m)\u001b[0m\u001b[1;33m\u001b[0m\u001b[1;33m\u001b[0m\u001b[0m\n\u001b[1;32m----> 5\u001b[1;33m \u001b[0mprint\u001b[0m\u001b[1;33m(\u001b[0m\u001b[0mperson1\u001b[0m\u001b[1;33m.\u001b[0m\u001b[0mdoctor_desc\u001b[0m\u001b[1;33m(\u001b[0m\u001b[1;33m)\u001b[0m\u001b[1;33m)\u001b[0m\u001b[1;33m\u001b[0m\u001b[1;33m\u001b[0m\u001b[0m\n\u001b[0m",
      "\u001b[1;31mAttributeError\u001b[0m: 'teacher' object has no attribute 'doctor_desc'"
     ]
    }
   ],
   "source": [
    "# teacher class will not have access to doctor class' method doctor_desc\n",
    "\n",
    "\n",
    "person1 = teacher('teacher',340000,20)\n",
    "print(person1.doctor_desc())"
   ]
  },
  {
   "cell_type": "markdown",
   "id": "5c40be9c",
   "metadata": {},
   "source": [
    "## Encapsulation"
   ]
  },
  {
   "cell_type": "code",
   "execution_count": 3,
   "id": "b1bce33b",
   "metadata": {},
   "outputs": [],
   "source": [
    "# Any variable or method with __ prefix is called a Private variable\n",
    "\n",
    "# It will not be accessible for an object directly unless used by a method\n",
    "\n",
    "class dog:\n",
    "    legs_count = '4'\n",
    "    animal_type = 'mammal'\n",
    "    def __init__( self, name,age, breed, color):\n",
    "        self.name= name\n",
    "        self.__age=age        # Private Variable\n",
    "        self.breed= breed\n",
    "        self.color = color \n",
    "    def bark(Self):\n",
    "        return \"Dog barks\"\n",
    "    def description(self):\n",
    "        if(self.__age<2):\n",
    "            return f\"{self.name} is {self.__age} years old. \"\n",
    "        else:\n",
    "            return f\"{self.name} is {self.__age} years old.  \""
   ]
  },
  {
   "cell_type": "code",
   "execution_count": 4,
   "id": "fe7a8d02",
   "metadata": {},
   "outputs": [
    {
     "name": "stdout",
     "output_type": "stream",
     "text": [
      "Mozo is 12 years old.  \n",
      "Mozo\n"
     ]
    },
    {
     "ename": "AttributeError",
     "evalue": "'dog' object has no attribute 'age'",
     "output_type": "error",
     "traceback": [
      "\u001b[1;31m---------------------------------------------------------------------------\u001b[0m",
      "\u001b[1;31mAttributeError\u001b[0m                            Traceback (most recent call last)",
      "\u001b[1;32m<ipython-input-4-f1af65f52289>\u001b[0m in \u001b[0;36m<module>\u001b[1;34m\u001b[0m\n\u001b[0;32m      6\u001b[0m \u001b[1;31m#Checking if we are able to access Private variable directly from outside\u001b[0m\u001b[1;33m\u001b[0m\u001b[1;33m\u001b[0m\u001b[1;33m\u001b[0m\u001b[0m\n\u001b[0;32m      7\u001b[0m \u001b[0mprint\u001b[0m\u001b[1;33m(\u001b[0m\u001b[0mMozo\u001b[0m\u001b[1;33m.\u001b[0m\u001b[0mname\u001b[0m\u001b[1;33m)\u001b[0m\u001b[1;33m\u001b[0m\u001b[1;33m\u001b[0m\u001b[0m\n\u001b[1;32m----> 8\u001b[1;33m \u001b[0mprint\u001b[0m\u001b[1;33m(\u001b[0m\u001b[0mMozo\u001b[0m\u001b[1;33m.\u001b[0m\u001b[0mage\u001b[0m\u001b[1;33m)\u001b[0m\u001b[1;33m\u001b[0m\u001b[1;33m\u001b[0m\u001b[0m\n\u001b[0m",
      "\u001b[1;31mAttributeError\u001b[0m: 'dog' object has no attribute 'age'"
     ]
    }
   ],
   "source": [
    "Mozo = dog('Mozo',12,'Husky','Yellow')\n",
    "\n",
    "#Checking if we are able to access Private variable using Class method\n",
    "print(Mozo.description())\n",
    "\n",
    "#Checking if we are able to access Private variable directly from outside\n",
    "print(Mozo.name)\n",
    "print(Mozo.age)"
   ]
  },
  {
   "cell_type": "markdown",
   "id": "4b4b30f0",
   "metadata": {},
   "source": [
    "## Polymorphism"
   ]
  },
  {
   "cell_type": "code",
   "execution_count": 117,
   "id": "71350afb",
   "metadata": {},
   "outputs": [],
   "source": [
    "class teacher:     \n",
    "     def description(self):\n",
    "        return \"Teacher educates students\"\n",
    "\n",
    "class doctor:     \n",
    "      def description(self):\n",
    "        return \"Doctor heals people\""
   ]
  },
  {
   "cell_type": "code",
   "execution_count": 118,
   "id": "936a657e",
   "metadata": {},
   "outputs": [
    {
     "name": "stdout",
     "output_type": "stream",
     "text": [
      "Teacher educates students\n",
      "Doctor heals people\n"
     ]
    }
   ],
   "source": [
    "# There are 2 methods with same name \"description\" for different objects. \n",
    "\n",
    "# methods works according to which object has evoked the method\n",
    "\n",
    "Sunny = teacher()\n",
    "Monty = doctor()\n",
    "\n",
    "print(Sunny.description())\n",
    "print(Monty.description())"
   ]
  },
  {
   "cell_type": "markdown",
   "id": "aab6b899",
   "metadata": {},
   "source": [
    "## Abstraction"
   ]
  },
  {
   "cell_type": "code",
   "execution_count": 119,
   "id": "7998b5c5",
   "metadata": {},
   "outputs": [],
   "source": [
    "# This is the syntax of creating an abstract class\n",
    "\n",
    "# We would need to import ABC class from abc module\n",
    "\n",
    "from abc import ABC\n",
    "\n",
    "class abstract_class_name(ABC):\n",
    "    #Body of the class\n",
    "    pass"
   ]
  },
  {
   "cell_type": "code",
   "execution_count": 121,
   "id": "ce029f4b",
   "metadata": {},
   "outputs": [],
   "source": [
    "# An abstract class cannot have its own object\n",
    "\n",
    "# The objects are created using Inheritance. A child class must be created and objects \n",
    "# can be created out of that child class\n",
    "\n",
    "# In below example, we defince an Abstract class \"Vehicle\"\n",
    "\n",
    "# In next cell, we also show that Python is unable to create the object of this class\n",
    "\n",
    "from abc import ABC, abstractmethod\n",
    "\n",
    "class Vehicle(ABC):\n",
    "    def __init__(self,name):\n",
    "        self.name = name \n",
    "\n",
    "    @abstractmethod\n",
    "    def mileage(self,x):\n",
    "        pass"
   ]
  },
  {
   "cell_type": "code",
   "execution_count": 122,
   "id": "12e4c48c",
   "metadata": {},
   "outputs": [
    {
     "ename": "TypeError",
     "evalue": "Can't instantiate abstract class Vehicle with abstract methods mileage",
     "output_type": "error",
     "traceback": [
      "\u001b[1;31m---------------------------------------------------------------------------\u001b[0m",
      "\u001b[1;31mTypeError\u001b[0m                                 Traceback (most recent call last)",
      "\u001b[1;32m<ipython-input-122-31f2f805267a>\u001b[0m in \u001b[0;36m<module>\u001b[1;34m\u001b[0m\n\u001b[1;32m----> 1\u001b[1;33m \u001b[0mVehicle_object\u001b[0m \u001b[1;33m=\u001b[0m \u001b[0mVehicle\u001b[0m\u001b[1;33m(\u001b[0m\u001b[1;34m\"SUV\"\u001b[0m\u001b[1;33m)\u001b[0m\u001b[1;33m\u001b[0m\u001b[1;33m\u001b[0m\u001b[0m\n\u001b[0m",
      "\u001b[1;31mTypeError\u001b[0m: Can't instantiate abstract class Vehicle with abstract methods mileage"
     ]
    }
   ],
   "source": [
    "Vehicle_object = Vehicle(\"SUV\")"
   ]
  },
  {
   "cell_type": "code",
   "execution_count": 124,
   "id": "a3efe100",
   "metadata": {},
   "outputs": [],
   "source": [
    "# here we also define a child class \"Vehicle_Child\" for Abstract class Vehicle\n",
    "\n",
    "# We can see that an object is created for the Vehicle_Child class\n",
    "\n",
    "\n",
    "from abc import ABC, abstractmethod\n",
    "\n",
    "class Vehicle(ABC):\n",
    "    def __init__(self,name):\n",
    "        self.name = name\n",
    "\n",
    "    def description(self):\n",
    "        print(\"Vehicle descrition can be given by executive\")\n",
    "\n",
    "    @abstractmethod\n",
    "    def mileage(self,x):\n",
    "        pass\n",
    "              \n",
    "class Vehicle_child(Vehicle):\n",
    "    def mileage(self,x):\n",
    "        print(f\"{self.name}'s mileage is {x} KMPL.\")"
   ]
  },
  {
   "cell_type": "code",
   "execution_count": 126,
   "id": "4d20204f",
   "metadata": {},
   "outputs": [],
   "source": [
    "vehicle_object = Vehicle_child(\"SUV\")\n"
   ]
  },
  {
   "cell_type": "code",
   "execution_count": 129,
   "id": "3cd36b1b",
   "metadata": {},
   "outputs": [
    {
     "name": "stdout",
     "output_type": "stream",
     "text": [
      "Vehicle descrition can be given by executive\n",
      "SUV's mileage is 15 KMPL.\n"
     ]
    }
   ],
   "source": [
    "# We can see that we are able to use method \"mileage\" by child class even when the function belongs to parent class\n",
    "\n",
    "# Because the parent class is an abstract class, there would be no other objects of that class\n",
    "\n",
    "# In a bigger project, in this way the method functionality will always be hidden as it will always be accessed by child classes\n",
    "\n",
    "vehicle_object.description()\n",
    "vehicle_object.mileage(15)"
   ]
  }
 ],
 "metadata": {
  "kernelspec": {
   "display_name": "Python 3",
   "language": "python",
   "name": "python3"
  },
  "language_info": {
   "codemirror_mode": {
    "name": "ipython",
    "version": 3
   },
   "file_extension": ".py",
   "mimetype": "text/x-python",
   "name": "python",
   "nbconvert_exporter": "python",
   "pygments_lexer": "ipython3",
   "version": "3.8.8"
  }
 },
 "nbformat": 4,
 "nbformat_minor": 5
}
